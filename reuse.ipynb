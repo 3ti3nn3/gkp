{
 "cells": [
  {
   "cell_type": "markdown",
   "id": "f66df4ad",
   "metadata": {},
   "source": [
    "# Simulation of different circuit perparation of GKP codes"
   ]
  },
  {
   "cell_type": "code",
   "execution_count": 1,
   "id": "4d76fd0d",
   "metadata": {},
   "outputs": [
    {
     "name": "stderr",
     "output_type": "stream",
     "text": [
      "/Users/etiennestock/Documents/packages/strawberryfields/strawberryfields/apps/data/sample.py:20: UserWarning: pkg_resources is deprecated as an API. See https://setuptools.pypa.io/en/latest/pkg_resources.html. The pkg_resources package is slated for removal as early as 2025-11-30. Refrain from using this package or pin to Setuptools<81.\n",
      "  import pkg_resources\n"
     ]
    }
   ],
   "source": [
    "# import libraries\n",
    "import numpy as np\n",
    "import matplotlib.pyplot as plt\n",
    "import optimization\n",
    "import evaluation\n",
    "import pandas as pd\n",
    "import strawberryfields as sf"
   ]
  },
  {
   "cell_type": "code",
   "execution_count": 2,
   "id": "e278d20a-3f22-4e25-9746-d27c30583676",
   "metadata": {},
   "outputs": [],
   "source": [
    "# general stuff\n",
    "state_dict = {(0, 0): '0', (np.pi, 0): '1', (np.pi/2, 0): '+'} # dictionary to save the state properly\n",
    "\n",
    "def Vtanhgate(s): return sf.ops.Vgate(np.tanh(s)) \n",
    "def Kdl2c2gate(kappa): return sf.ops.Kdlcgate(kappa, 2, 2)\n",
    "def Kdl6c2gate(kappa): return sf.ops.Kdlcgate(kappa, 6, 2)\n",
    "def Kdl10c2gate(kappa): return sf.ops.Kdlcgate(kappa, 10, 2)"
   ]
  },
  {
   "cell_type": "code",
   "execution_count": 5,
   "id": "f2cb5b73",
   "metadata": {},
   "outputs": [],
   "source": [
    "# hyperparameters of the current run\n",
    "cutoff     = 30\n",
    "delta      = 0.25 \n",
    "epsilon    = delta**2 \n",
    "num_trials = 1 \n",
    "n_jobs     = 2 \n",
    "state      = [0, 0] \n",
    "num_blocks = [15, 15, 15, 15, 15, 15] \n",
    "circuit    = 'XRVtanhS'\n",
    "gates      = np.array([sf.ops.Xgate, sf.ops.Rgate, Vtanhgate, sf.ops.Sgate])\n",
    "rev_gates  = np.array([sf.ops.Sgate, Vtanhgate, sf.ops.Rgate, sf.ops.Xgate])"
   ]
  },
  {
   "cell_type": "code",
   "execution_count": 10,
   "id": "672a1ae0-dbd3-4c9d-b1bf-7e087401f4c6",
   "metadata": {},
   "outputs": [
    {
     "name": "stdout",
     "output_type": "stream",
     "text": [
      "0. optimization done with a fidelity of 0.8390948176383972!\n",
      "1. optimization done with a fidelity of 0.8390948176383972!\n",
      "2. optimization done with a fidelity of 0.8390948176383972!\n",
      "3. optimization done with a fidelity of 0.8390948176383972!\n",
      "4. optimization done with a fidelity of 0.8390948176383972!\n",
      "5. optimization done with a fidelity of 0.8390948176383972!\n"
     ]
    },
    {
     "ename": "ValueError",
     "evalue": "setting an array element with a sequence. The requested array has an inhomogeneous shape after 1 dimensions. The detected shape was (3,) + inhomogeneous part.",
     "output_type": "error",
     "traceback": [
      "\u001b[31m---------------------------------------------------------------------------\u001b[39m",
      "\u001b[31mValueError\u001b[39m                                Traceback (most recent call last)",
      "\u001b[36mCell\u001b[39m\u001b[36m \u001b[39m\u001b[32mIn[10]\u001b[39m\u001b[32m, line 17\u001b[39m\n\u001b[32m     14\u001b[39m     \u001b[38;5;28mprint\u001b[39m(\u001b[33mf\u001b[39m\u001b[33m'\u001b[39m\u001b[38;5;132;01m{\u001b[39;00mi\u001b[38;5;132;01m}\u001b[39;00m\u001b[33m. optimization done with a fidelity of \u001b[39m\u001b[38;5;132;01m{\u001b[39;00mbestFids[i]\u001b[38;5;132;01m}\u001b[39;00m\u001b[33m!\u001b[39m\u001b[33m'\u001b[39m)\n\u001b[32m     16\u001b[39m \u001b[38;5;66;03m# store data in pandas data frame\u001b[39;00m\n\u001b[32m---> \u001b[39m\u001b[32m17\u001b[39m results = pd.DataFrame(data=\u001b[43mnp\u001b[49m\u001b[43m.\u001b[49m\u001b[43marray\u001b[49m\u001b[43m(\u001b[49m\u001b[43m[\u001b[49m\u001b[43mcircuit\u001b[49m\u001b[43m]\u001b[49m\u001b[43m \u001b[49m\u001b[43m+\u001b[49m\u001b[43m \u001b[49m\u001b[38;5;28;43mlist\u001b[39;49m\u001b[43m(\u001b[49m\u001b[43m[\u001b[49m\u001b[43mFids\u001b[49m\u001b[43m[\u001b[49m\u001b[43m:\u001b[49m\u001b[43m,\u001b[49m\u001b[43mi\u001b[49m\u001b[43m]\u001b[49m\u001b[43m \u001b[49m\u001b[38;5;28;43;01mfor\u001b[39;49;00m\u001b[43m \u001b[49m\u001b[43mi\u001b[49m\u001b[43m \u001b[49m\u001b[38;5;129;43;01min\u001b[39;49;00m\u001b[43m \u001b[49m\u001b[38;5;28;43mrange\u001b[39;49m\u001b[43m(\u001b[49m\u001b[43mnum_trials\u001b[49m\u001b[43m)\u001b[49m\u001b[43m]\u001b[49m\u001b[43m)\u001b[49m\u001b[43m \u001b[49m\u001b[43m+\u001b[49m\u001b[43m \u001b[49m\u001b[38;5;28;43mlist\u001b[39;49m\u001b[43m(\u001b[49m\u001b[43m[\u001b[49m\u001b[43mbestFids\u001b[49m\u001b[43m]\u001b[49m\u001b[43m)\u001b[49m\u001b[43m)\u001b[49m.T, columns=[\u001b[33m'\u001b[39m\u001b[33mmethod\u001b[39m\u001b[33m'\u001b[39m] + [(\u001b[33mf\u001b[39m\u001b[33m'\u001b[39m\u001b[38;5;132;01m{\u001b[39;00mi+\u001b[32m1\u001b[39m\u001b[38;5;132;01m}\u001b[39;00m\u001b[33m: \u001b[39m\u001b[33m'\u001b[39m + \u001b[33mr\u001b[39m\u001b[33m'\u001b[39m\u001b[33m$\u001b[39m\u001b[33m\\\u001b[39m\u001b[33mleft|\u001b[39m\u001b[33m\\\u001b[39m\u001b[33mleft<0\u001b[39m\u001b[33m\\\u001b[39m\u001b[33mright| U(\u001b[39m\u001b[33m\\\u001b[39m\u001b[33mvec\u001b[39m\u001b[33m{\u001b[39m\u001b[33m\\\u001b[39m\u001b[33mlambda})\u001b[39m\u001b[33m\\\u001b[39m\u001b[33mleft|\u001b[39m\u001b[33m\\\u001b[39m\u001b[33mPsi_t \u001b[39m\u001b[33m\\\u001b[39m\u001b[33mright>\u001b[39m\u001b[33m\\\u001b[39m\u001b[33mright|^2$\u001b[39m\u001b[33m'\u001b[39m) \u001b[38;5;28;01mfor\u001b[39;00m i \u001b[38;5;129;01min\u001b[39;00m \u001b[38;5;28mrange\u001b[39m(num_trials)] + [\u001b[33mr\u001b[39m\u001b[33m'\u001b[39m\u001b[33m$\u001b[39m\u001b[33m\\\u001b[39m\u001b[33mmax_i\u001b[39m\u001b[33m\\\u001b[39m\u001b[33mleft|\u001b[39m\u001b[33m\\\u001b[39m\u001b[33mleft<0\u001b[39m\u001b[33m\\\u001b[39m\u001b[33mright| U(\u001b[39m\u001b[33m\\\u001b[39m\u001b[33mvec\u001b[39m\u001b[33m{\u001b[39m\u001b[33m\\\u001b[39m\u001b[33mlambda})\u001b[39m\u001b[33m\\\u001b[39m\u001b[33mleft|\u001b[39m\u001b[33m\\\u001b[39m\u001b[33mPsi_t \u001b[39m\u001b[33m\\\u001b[39m\u001b[33mright>\u001b[39m\u001b[33m\\\u001b[39m\u001b[33mright|^2$\u001b[39m\u001b[33m'\u001b[39m])\n",
      "\u001b[31mValueError\u001b[39m: setting an array element with a sequence. The requested array has an inhomogeneous shape after 1 dimensions. The detected shape was (3,) + inhomogeneous part."
     ]
    }
   ],
   "source": [
    "# arrays to store data for plots and error analysis \n",
    "max_params = max(num_blocks)\n",
    "opt        = np.empty(len(num_blocks), dtype=optimization.Optimization)\n",
    "Fids       = np.empty((len(num_blocks), num_trials), dtype=np.float32)\n",
    "bestFids   = np.empty(len(num_blocks), dtype=np.float32) \n",
    "\n",
    "# parallel optimization\n",
    "params = 0.1*np.random.rand(num_blocks[0]*len(gates))\n",
    "for i in range(len(num_blocks)):\n",
    "    opt[i] = optimization.Optimization(gates=gates, circuit=circuit, cutoff=cutoff, delta=delta, epsilon=epsilon, num_blocks=num_blocks[i], num_trials=num_trials, state=state)\n",
    "    Fids[i], _ = opt[i].parallel_optimize_circuit(params=params)   \n",
    "    params = opt[i].get_bestSol()\n",
    "    bestFids[i] = opt[i].get_bestFid()\n",
    "    print(f'{i}. optimization done with a fidelity of {bestFids[i]}!')"
   ]
  },
  {
   "cell_type": "code",
   "execution_count": 29,
   "id": "8f8f194a-8262-4871-a4a5-38db1d0aadf9",
   "metadata": {},
   "outputs": [
    {
     "data": {
      "text/html": [
       "<div>\n",
       "<style scoped>\n",
       "    .dataframe tbody tr th:only-of-type {\n",
       "        vertical-align: middle;\n",
       "    }\n",
       "\n",
       "    .dataframe tbody tr th {\n",
       "        vertical-align: top;\n",
       "    }\n",
       "\n",
       "    .dataframe thead th {\n",
       "        text-align: right;\n",
       "    }\n",
       "</style>\n",
       "<table border=\"1\" class=\"dataframe\">\n",
       "  <thead>\n",
       "    <tr style=\"text-align: right;\">\n",
       "      <th></th>\n",
       "      <th>methods</th>\n",
       "      <th>1: $\\left|\\left&lt;0\\right| U(\\vec{\\lambda})\\left|\\Psi_t \\right&gt;\\right|^2$</th>\n",
       "      <th>$\\max_i\\left|\\left&lt;0\\right| U(\\vec{\\lambda})\\left|\\Psi_t \\right&gt;\\right|^2$</th>\n",
       "    </tr>\n",
       "  </thead>\n",
       "  <tbody>\n",
       "    <tr>\n",
       "      <th>0</th>\n",
       "      <td>XRVtanhS</td>\n",
       "      <td>0.839095</td>\n",
       "      <td>0.839095</td>\n",
       "    </tr>\n",
       "    <tr>\n",
       "      <th>1</th>\n",
       "      <td>XRVtanhS</td>\n",
       "      <td>0.839095</td>\n",
       "      <td>0.839095</td>\n",
       "    </tr>\n",
       "    <tr>\n",
       "      <th>2</th>\n",
       "      <td>XRVtanhS</td>\n",
       "      <td>0.839095</td>\n",
       "      <td>0.839095</td>\n",
       "    </tr>\n",
       "    <tr>\n",
       "      <th>3</th>\n",
       "      <td>XRVtanhS</td>\n",
       "      <td>0.839095</td>\n",
       "      <td>0.839095</td>\n",
       "    </tr>\n",
       "    <tr>\n",
       "      <th>4</th>\n",
       "      <td>XRVtanhS</td>\n",
       "      <td>0.839095</td>\n",
       "      <td>0.839095</td>\n",
       "    </tr>\n",
       "    <tr>\n",
       "      <th>5</th>\n",
       "      <td>XRVtanhS</td>\n",
       "      <td>0.839095</td>\n",
       "      <td>0.839095</td>\n",
       "    </tr>\n",
       "  </tbody>\n",
       "</table>\n",
       "</div>"
      ],
      "text/plain": [
       "    methods  \\\n",
       "0  XRVtanhS   \n",
       "1  XRVtanhS   \n",
       "2  XRVtanhS   \n",
       "3  XRVtanhS   \n",
       "4  XRVtanhS   \n",
       "5  XRVtanhS   \n",
       "\n",
       "   1: $\\left|\\left<0\\right| U(\\vec{\\lambda})\\left|\\Psi_t \\right>\\right|^2$  \\\n",
       "0                                           0.839095                         \n",
       "1                                           0.839095                         \n",
       "2                                           0.839095                         \n",
       "3                                           0.839095                         \n",
       "4                                           0.839095                         \n",
       "5                                           0.839095                         \n",
       "\n",
       "   $\\max_i\\left|\\left<0\\right| U(\\vec{\\lambda})\\left|\\Psi_t \\right>\\right|^2$  \n",
       "0                                           0.839095                           \n",
       "1                                           0.839095                           \n",
       "2                                           0.839095                           \n",
       "3                                           0.839095                           \n",
       "4                                           0.839095                           \n",
       "5                                           0.839095                           "
      ]
     },
     "execution_count": 29,
     "metadata": {},
     "output_type": "execute_result"
    }
   ],
   "source": [
    "# store data in pandas data frame\n",
    "results = pd.DataFrame()\n",
    "results['methods'] = np.repeat(circuit, len(num_blocks))\n",
    "for i in range(num_trials): \n",
    "    results[f'{i+1}: ' + r'$\\left|\\left<0\\right| U(\\vec{\\lambda})\\left|\\Psi_t \\right>\\right|^2$'] = Fids[:,i]\n",
    "results[r'$\\max_i\\left|\\left<0\\right| U(\\vec{\\lambda})\\left|\\Psi_t \\right>\\right|^2$'] = bestFids\n",
    "\n",
    "results"
   ]
  },
  {
   "cell_type": "code",
   "execution_count": 8,
   "id": "dfb7b74f-73a7-4592-af59-d3a80b3f2581",
   "metadata": {},
   "outputs": [],
   "source": [
    "# save data in folder data\n",
    "for i in range(len(circuits)): \n",
    "    file_name = f\"data_{state_dict[tuple(state)]}_{circuits[i]}_{cutoff}_{str(delta).replace('.', '')}_{num_blocks[i]}\"\n",
    "    opt[i].save(file_name)"
   ]
  },
  {
   "cell_type": "code",
   "execution_count": 31,
   "id": "82482ab3-b9a3-43e7-9b14-ee94cfc1537b",
   "metadata": {},
   "outputs": [
    {
     "name": "stderr",
     "output_type": "stream",
     "text": [
      "/var/folders/6q/7zspg0xj68g0zq09v2tt_hyh0000gn/T/ipykernel_50833/3717506311.py:11: ComplexWarning: Casting complex values to real discards the imaginary part\n"
     ]
    }
   ],
   "source": [
    "# prepare the target state in Fock basis, so that we can compare with our generated state\n",
    "target_GKP = evaluation.prepare_GKP(epsilon=epsilon, cutoff=cutoff, state=state).ket()\n",
    "\n",
    "# compute norm of the generated states and the fidelity between target state and generated state\n",
    "generated_GKP = np.empty((len(num_blocks), cutoff), dtype=np.complex64)\n",
    "normgen       = np.empty(len(num_blocks), dtype=np.float32)\n",
    "fid           = np.empty(len(num_blocks), dtype=np.float32)\n",
    "\n",
    "for i in range(len(num_blocks)):    \n",
    "    generated_GKP[i] = evaluation.prepare_state(rev_gates, -np.flip(opt[i].get_bestSol()), cutoff).ket()\n",
    "    normgen[i]       = np.dot(generated_GKP[i].conj(), generated_GKP[i])\n",
    "    fid[i]           = np.abs(np.dot(generated_GKP[i].conj(), target_GKP))**2\n",
    "\n",
    "# add results\n",
    "results[r'$|\\langle\\Psi_g|\\Psi_g\\rangle|^2$'] = normgen\n",
    "results[r'$|\\langle\\Psi_g|\\Psi_t\\rangle|^2$'] = fid"
   ]
  },
  {
   "cell_type": "code",
   "execution_count": 32,
   "id": "98ca278f-9ae7-4454-b600-3b39dbcaf918",
   "metadata": {},
   "outputs": [
    {
     "data": {
      "text/html": [
       "<div>\n",
       "<style scoped>\n",
       "    .dataframe tbody tr th:only-of-type {\n",
       "        vertical-align: middle;\n",
       "    }\n",
       "\n",
       "    .dataframe tbody tr th {\n",
       "        vertical-align: top;\n",
       "    }\n",
       "\n",
       "    .dataframe thead th {\n",
       "        text-align: right;\n",
       "    }\n",
       "</style>\n",
       "<table border=\"1\" class=\"dataframe\">\n",
       "  <thead>\n",
       "    <tr style=\"text-align: right;\">\n",
       "      <th></th>\n",
       "      <th>0</th>\n",
       "    </tr>\n",
       "  </thead>\n",
       "  <tbody>\n",
       "    <tr>\n",
       "      <th>$\\left|\\left&lt;\\Psi_t |\\Psi_t \\right&gt;\\right|^2$</th>\n",
       "      <td>1.0</td>\n",
       "    </tr>\n",
       "  </tbody>\n",
       "</table>\n",
       "</div>"
      ],
      "text/plain": [
       "                                                 0\n",
       "$\\left|\\left<\\Psi_t |\\Psi_t \\right>\\right|^2$  1.0"
      ]
     },
     "execution_count": 32,
     "metadata": {},
     "output_type": "execute_result"
    }
   ],
   "source": [
    "# calculate the norm of the target state for consistency\n",
    "normtarg = np.abs(np.dot(target_GKP.conj(), target_GKP))\n",
    "pd.DataFrame([normtarg], [r'$\\left|\\left<\\Psi_t |\\Psi_t \\right>\\right|^2$'])"
   ]
  },
  {
   "cell_type": "code",
   "execution_count": 33,
   "id": "6db22a55-c8cd-4682-8c2d-1444d8edf0ef",
   "metadata": {},
   "outputs": [
    {
     "data": {
      "text/html": [
       "<div>\n",
       "<style scoped>\n",
       "    .dataframe tbody tr th:only-of-type {\n",
       "        vertical-align: middle;\n",
       "    }\n",
       "\n",
       "    .dataframe tbody tr th {\n",
       "        vertical-align: top;\n",
       "    }\n",
       "\n",
       "    .dataframe thead th {\n",
       "        text-align: right;\n",
       "    }\n",
       "</style>\n",
       "<table border=\"1\" class=\"dataframe\">\n",
       "  <thead>\n",
       "    <tr style=\"text-align: right;\">\n",
       "      <th></th>\n",
       "      <th>methods</th>\n",
       "      <th>1: $\\left|\\left&lt;0\\right| U(\\vec{\\lambda})\\left|\\Psi_t \\right&gt;\\right|^2$</th>\n",
       "      <th>$\\max_i\\left|\\left&lt;0\\right| U(\\vec{\\lambda})\\left|\\Psi_t \\right&gt;\\right|^2$</th>\n",
       "      <th>$|\\langle\\Psi_g|\\Psi_g\\rangle|^2$</th>\n",
       "      <th>$|\\langle\\Psi_g|\\Psi_t\\rangle|^2$</th>\n",
       "    </tr>\n",
       "  </thead>\n",
       "  <tbody>\n",
       "    <tr>\n",
       "      <th>0</th>\n",
       "      <td>XRVtanhS</td>\n",
       "      <td>0.839095</td>\n",
       "      <td>0.839095</td>\n",
       "      <td>0.931666</td>\n",
       "      <td>0.839095</td>\n",
       "    </tr>\n",
       "    <tr>\n",
       "      <th>1</th>\n",
       "      <td>XRVtanhS</td>\n",
       "      <td>0.839095</td>\n",
       "      <td>0.839095</td>\n",
       "      <td>0.931663</td>\n",
       "      <td>0.839095</td>\n",
       "    </tr>\n",
       "    <tr>\n",
       "      <th>2</th>\n",
       "      <td>XRVtanhS</td>\n",
       "      <td>0.839095</td>\n",
       "      <td>0.839095</td>\n",
       "      <td>0.931663</td>\n",
       "      <td>0.839095</td>\n",
       "    </tr>\n",
       "    <tr>\n",
       "      <th>3</th>\n",
       "      <td>XRVtanhS</td>\n",
       "      <td>0.839095</td>\n",
       "      <td>0.839095</td>\n",
       "      <td>0.931663</td>\n",
       "      <td>0.839095</td>\n",
       "    </tr>\n",
       "    <tr>\n",
       "      <th>4</th>\n",
       "      <td>XRVtanhS</td>\n",
       "      <td>0.839095</td>\n",
       "      <td>0.839095</td>\n",
       "      <td>0.931663</td>\n",
       "      <td>0.839095</td>\n",
       "    </tr>\n",
       "    <tr>\n",
       "      <th>5</th>\n",
       "      <td>XRVtanhS</td>\n",
       "      <td>0.839095</td>\n",
       "      <td>0.839095</td>\n",
       "      <td>0.931663</td>\n",
       "      <td>0.839095</td>\n",
       "    </tr>\n",
       "  </tbody>\n",
       "</table>\n",
       "</div>"
      ],
      "text/plain": [
       "    methods  \\\n",
       "0  XRVtanhS   \n",
       "1  XRVtanhS   \n",
       "2  XRVtanhS   \n",
       "3  XRVtanhS   \n",
       "4  XRVtanhS   \n",
       "5  XRVtanhS   \n",
       "\n",
       "   1: $\\left|\\left<0\\right| U(\\vec{\\lambda})\\left|\\Psi_t \\right>\\right|^2$  \\\n",
       "0                                           0.839095                         \n",
       "1                                           0.839095                         \n",
       "2                                           0.839095                         \n",
       "3                                           0.839095                         \n",
       "4                                           0.839095                         \n",
       "5                                           0.839095                         \n",
       "\n",
       "   $\\max_i\\left|\\left<0\\right| U(\\vec{\\lambda})\\left|\\Psi_t \\right>\\right|^2$  \\\n",
       "0                                           0.839095                            \n",
       "1                                           0.839095                            \n",
       "2                                           0.839095                            \n",
       "3                                           0.839095                            \n",
       "4                                           0.839095                            \n",
       "5                                           0.839095                            \n",
       "\n",
       "   $|\\langle\\Psi_g|\\Psi_g\\rangle|^2$  $|\\langle\\Psi_g|\\Psi_t\\rangle|^2$  \n",
       "0                           0.931666                           0.839095  \n",
       "1                           0.931663                           0.839095  \n",
       "2                           0.931663                           0.839095  \n",
       "3                           0.931663                           0.839095  \n",
       "4                           0.931663                           0.839095  \n",
       "5                           0.931663                           0.839095  "
      ]
     },
     "execution_count": 33,
     "metadata": {},
     "output_type": "execute_result"
    }
   ],
   "source": [
    "# show results of this optimization round\n",
    "results"
   ]
  },
  {
   "cell_type": "code",
   "execution_count": 38,
   "id": "77f5e773",
   "metadata": {},
   "outputs": [
    {
     "name": "stderr",
     "output_type": "stream",
     "text": [
      "<>:17: SyntaxWarning: invalid escape sequence '\\P'\n",
      "<>:19: SyntaxWarning: invalid escape sequence '\\s'\n",
      "<>:17: SyntaxWarning: invalid escape sequence '\\P'\n",
      "<>:19: SyntaxWarning: invalid escape sequence '\\s'\n",
      "/var/folders/6q/7zspg0xj68g0zq09v2tt_hyh0000gn/T/ipykernel_50833/4182563334.py:17: SyntaxWarning: invalid escape sequence '\\P'\n",
      "/var/folders/6q/7zspg0xj68g0zq09v2tt_hyh0000gn/T/ipykernel_50833/4182563334.py:19: SyntaxWarning: invalid escape sequence '\\s'\n"
     ]
    },
    {
     "data": {
      "image/png": "[encoded data removed]",
      "text/plain": [
       "<Figure size 640x480 with 1 Axes>"
      ]
     },
     "metadata": {},
     "output_type": "display_data"
    }
   ],
   "source": [
    "# Plot probability distribution of generated and target GKP states\n",
    "qnum    = 8\n",
    "qlim    = qnum*np.sqrt(np.pi)\n",
    "qvalues = np.linspace(-qlim,qlim, 1000)\n",
    "\n",
    "targetGKPwf = evaluation.wavefunction(q=qvalues, ket=target_GKP)\n",
    "gauss       = lambda x: np.max(np.abs(targetGKPwf*targetGKPwf.conj())) * np.exp(-x**2*(delta)**2)\n",
    "\n",
    "genGKPwf    = np.empty((len(num_blocks), 1000), dtype=np.complex64)\n",
    "for i in range(len(num_blocks)):\n",
    "    genGKPwf[i] = evaluation.wavefunction(q=qvalues, ket=generated_GKP[i])\n",
    "    plt.plot(qvalues, np.abs(genGKPwf[i]*genGKPwf[i].conj()), label=f'{circuit}: '+r'$|\\langle\\Psi_g|\\Psi_t\\rangle|^2$'+f' = {fid[i]:.3f}', linestyle='dotted', linewidth=2)\n",
    "\n",
    "plt.plot(qvalues, np.abs(targetGKPwf*targetGKPwf.conj()), label='target', color='purple', linewidth=0.8)\n",
    "plt.plot(qvalues, gauss(qvalues), label=r'Gaussian envelope with $\\Delta =$'+f'{delta}', color='black', linewidth=0.5)\n",
    "\n",
    "plt.ylabel(\"$|\\Psi(q)|^2$\")\n",
    "plt.xticks(np.sqrt(np.pi)*np.arange(-qnum, qnum), np.arange(-qnum, qnum))\n",
    "plt.xlabel(\"$q/\\sqrt{\\pi}$\")\n",
    "plt.xlim(np.min(qvalues), np.max(qvalues))\n",
    "plt.ylim(0, np.max(np.abs(targetGKPwf*targetGKPwf.conj()))+0.1)\n",
    "plt.title(f'Circuit with {np.max(num_blocks)} preparation rounds and cutoff {cutoff}')\n",
    "plt.legend()\n",
    "\n",
    "# plt.savefig(f'plots/plot_{cutoff}_{str(delta).replace(\".\", \"\")}_{np.max(num_blocks)}_' + '_' + circuit + '.png')\n",
    "plt.show()"
   ]
  },
  {
   "cell_type": "code",
   "execution_count": 40,
   "id": "7427dd54",
   "metadata": {},
   "outputs": [
    {
     "name": "stderr",
     "output_type": "stream",
     "text": [
      "/var/folders/6q/7zspg0xj68g0zq09v2tt_hyh0000gn/T/ipykernel_50833/5084941.py:7: FutureWarning: Setting an item of incompatible dtype is deprecated and will raise an error in a future version of pandas. Value '0.3856190942842024' has dtype incompatible with float32, please explicitly cast to a compatible dtype first.\n"
     ]
    }
   ],
   "source": [
    "# calculate the Knill-Glancy error\n",
    "n    = 30 \n",
    "size = 30 \n",
    "\n",
    "results[r'$P_{\\text{error}}$'] = np.empty(len(num_blocks), dtype=np.float32)\n",
    "for i in range(len(num_blocks)): \n",
    "    results.loc[i, r'$P_{\\text{error}}$'] = evaluation.error_gancy_knill(generated_GKP[i], n, size)"
   ]
  },
  {
   "cell_type": "code",
   "execution_count": 41,
   "id": "6eb4ed82-1b58-49e6-985d-2a625d7bdcf0",
   "metadata": {},
   "outputs": [
    {
     "data": {
      "text/html": [
       "<div>\n",
       "<style scoped>\n",
       "    .dataframe tbody tr th:only-of-type {\n",
       "        vertical-align: middle;\n",
       "    }\n",
       "\n",
       "    .dataframe tbody tr th {\n",
       "        vertical-align: top;\n",
       "    }\n",
       "\n",
       "    .dataframe thead th {\n",
       "        text-align: right;\n",
       "    }\n",
       "</style>\n",
       "<table border=\"1\" class=\"dataframe\">\n",
       "  <thead>\n",
       "    <tr style=\"text-align: right;\">\n",
       "      <th></th>\n",
       "      <th>methods</th>\n",
       "      <th>1: $\\left|\\left&lt;0\\right| U(\\vec{\\lambda})\\left|\\Psi_t \\right&gt;\\right|^2$</th>\n",
       "      <th>$\\max_i\\left|\\left&lt;0\\right| U(\\vec{\\lambda})\\left|\\Psi_t \\right&gt;\\right|^2$</th>\n",
       "      <th>$|\\langle\\Psi_g|\\Psi_g\\rangle|^2$</th>\n",
       "      <th>$|\\langle\\Psi_g|\\Psi_t\\rangle|^2$</th>\n",
       "      <th>$P_{\\text{error}}$</th>\n",
       "    </tr>\n",
       "  </thead>\n",
       "  <tbody>\n",
       "    <tr>\n",
       "      <th>0</th>\n",
       "      <td>XRVtanhS</td>\n",
       "      <td>0.839095</td>\n",
       "      <td>0.839095</td>\n",
       "      <td>0.931666</td>\n",
       "      <td>0.839095</td>\n",
       "      <td>0.385619</td>\n",
       "    </tr>\n",
       "    <tr>\n",
       "      <th>1</th>\n",
       "      <td>XRVtanhS</td>\n",
       "      <td>0.839095</td>\n",
       "      <td>0.839095</td>\n",
       "      <td>0.931663</td>\n",
       "      <td>0.839095</td>\n",
       "      <td>0.385614</td>\n",
       "    </tr>\n",
       "    <tr>\n",
       "      <th>2</th>\n",
       "      <td>XRVtanhS</td>\n",
       "      <td>0.839095</td>\n",
       "      <td>0.839095</td>\n",
       "      <td>0.931663</td>\n",
       "      <td>0.839095</td>\n",
       "      <td>0.385614</td>\n",
       "    </tr>\n",
       "    <tr>\n",
       "      <th>3</th>\n",
       "      <td>XRVtanhS</td>\n",
       "      <td>0.839095</td>\n",
       "      <td>0.839095</td>\n",
       "      <td>0.931663</td>\n",
       "      <td>0.839095</td>\n",
       "      <td>0.385614</td>\n",
       "    </tr>\n",
       "    <tr>\n",
       "      <th>4</th>\n",
       "      <td>XRVtanhS</td>\n",
       "      <td>0.839095</td>\n",
       "      <td>0.839095</td>\n",
       "      <td>0.931663</td>\n",
       "      <td>0.839095</td>\n",
       "      <td>0.385614</td>\n",
       "    </tr>\n",
       "    <tr>\n",
       "      <th>5</th>\n",
       "      <td>XRVtanhS</td>\n",
       "      <td>0.839095</td>\n",
       "      <td>0.839095</td>\n",
       "      <td>0.931663</td>\n",
       "      <td>0.839095</td>\n",
       "      <td>0.385614</td>\n",
       "    </tr>\n",
       "  </tbody>\n",
       "</table>\n",
       "</div>"
      ],
      "text/plain": [
       "    methods  \\\n",
       "0  XRVtanhS   \n",
       "1  XRVtanhS   \n",
       "2  XRVtanhS   \n",
       "3  XRVtanhS   \n",
       "4  XRVtanhS   \n",
       "5  XRVtanhS   \n",
       "\n",
       "   1: $\\left|\\left<0\\right| U(\\vec{\\lambda})\\left|\\Psi_t \\right>\\right|^2$  \\\n",
       "0                                           0.839095                         \n",
       "1                                           0.839095                         \n",
       "2                                           0.839095                         \n",
       "3                                           0.839095                         \n",
       "4                                           0.839095                         \n",
       "5                                           0.839095                         \n",
       "\n",
       "   $\\max_i\\left|\\left<0\\right| U(\\vec{\\lambda})\\left|\\Psi_t \\right>\\right|^2$  \\\n",
       "0                                           0.839095                            \n",
       "1                                           0.839095                            \n",
       "2                                           0.839095                            \n",
       "3                                           0.839095                            \n",
       "4                                           0.839095                            \n",
       "5                                           0.839095                            \n",
       "\n",
       "   $|\\langle\\Psi_g|\\Psi_g\\rangle|^2$  $|\\langle\\Psi_g|\\Psi_t\\rangle|^2$  \\\n",
       "0                           0.931666                           0.839095   \n",
       "1                           0.931663                           0.839095   \n",
       "2                           0.931663                           0.839095   \n",
       "3                           0.931663                           0.839095   \n",
       "4                           0.931663                           0.839095   \n",
       "5                           0.931663                           0.839095   \n",
       "\n",
       "   $P_{\\text{error}}$  \n",
       "0            0.385619  \n",
       "1            0.385614  \n",
       "2            0.385614  \n",
       "3            0.385614  \n",
       "4            0.385614  \n",
       "5            0.385614  "
      ]
     },
     "execution_count": 41,
     "metadata": {},
     "output_type": "execute_result"
    }
   ],
   "source": [
    "results"
   ]
  },
  {
   "cell_type": "markdown",
   "id": "cead58cf-44fe-4479-9c1e-177aad82aa6b",
   "metadata": {},
   "source": [
    "- reusing the parameters of the previous try results in the same optimum\n",
    "- local extremum, not globally\n",
    "- lot of tries to search for th"
   ]
  },
  {
   "cell_type": "code",
   "execution_count": null,
   "id": "b60fe943-fd1e-453f-8278-c7a03a47a20f",
   "metadata": {},
   "outputs": [],
   "source": []
  }
 ],
 "metadata": {
  "kernelspec": {
   "display_name": "Python (gkp-env)",
   "language": "python",
   "name": "gkp-env"
  },
  "language_info": {
   "codemirror_mode": {
    "name": "ipython",
    "version": 3
   },
   "file_extension": ".py",
   "mimetype": "text/x-python",
   "name": "python",
   "nbconvert_exporter": "python",
   "pygments_lexer": "ipython3",
   "version": "3.13.3"
  }
 },
 "nbformat": 4,
 "nbformat_minor": 5
}
