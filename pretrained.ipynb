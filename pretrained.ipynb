{
 "cells": [
  {
   "cell_type": "code",
   "execution_count": 1,
   "id": "f16109b9-59eb-445e-8601-ba5e662d5d6a",
   "metadata": {},
   "outputs": [
    {
     "name": "stderr",
     "output_type": "stream",
     "text": [
      "/Users/etiennestock/Documents/packages/strawberryfields/strawberryfields/apps/data/sample.py:20: UserWarning: pkg_resources is deprecated as an API. See https://setuptools.pypa.io/en/latest/pkg_resources.html. The pkg_resources package is slated for removal as early as 2025-11-30. Refrain from using this package or pin to Setuptools<81.\n",
      "  import pkg_resources\n"
     ]
    }
   ],
   "source": [
    "import numpy as np\n",
    "import pandas as pd\n",
    "import matplotlib.pyplot as plt\n",
    "import strawberryfields as sf\n",
    "import time\n",
    "import optimization\n",
    "import evaluation"
   ]
  },
  {
   "cell_type": "code",
   "execution_count": 2,
   "id": "dde6e240-1f4e-4d2e-80c0-a101d239c6f8",
   "metadata": {},
   "outputs": [],
   "source": [
    "# general stuff\n",
    "## gates\n",
    "def Scgate(phi): return sf.ops.Sgate(1, phi)\n",
    "def Dcgate(phi): return sf.ops.Dgate(1, phi)\n",
    "def Vtanhgate(s): return sf.ops.Vgate(np.tanh(s))\n",
    "def V4tanhgate(s): return sf.ops.Vkgate(np.tanh(s), 4)\n",
    "def V5gate(s): return sf.ops.Vkgate(s, 5)\n",
    "def V5tanhgate(s): return sf.ops.Vkgate(np.tanh(s), 5)\n",
    "def V6tanhgate(s): return sf.ops.Vkgate(np.tanh(s), 6)\n",
    "def V7tanhgate(s): return sf.ops.Vkgate(np.tanh(s), 7)\n",
    "def V8tanhgate(s): return sf.ops.Vkgate(np.tanh(s), 8)\n",
    "def V9tanhgate(s): return sf.ops.Vkgate(np.tanh(s), 9)\n",
    "def V11tanhgate(s): return sf.ops.Vkgate(np.tanh(s), 11)\n",
    "def Kdl2c2gate(kappa): return sf.ops.Kdlcgate(kappa, 2, 2)\n",
    "def Kdl6c2gate(kappa): return sf.ops.Kdlcgate(kappa, 6, 2)\n",
    "def Kdl10c2gate(kappa): return sf.ops.Kdlcgate(kappa, 10, 2)"
   ]
  },
  {
   "cell_type": "code",
   "execution_count": 3,
   "id": "d4fd0b73-0d30-4af7-8bf5-163a29b71933",
   "metadata": {},
   "outputs": [],
   "source": [
    "# hyperparameters of the current run\n",
    "cutoff     = 30\n",
    "delta      = 0.25 \n",
    "num_trials = 2 \n",
    "n_jobs     = 2 \n",
    "state      = [0, 0] \n",
    "num_blocks = [22, 22] "
   ]
  },
  {
   "cell_type": "code",
   "execution_count": 9,
   "id": "e689088e-e1f7-49c3-83fc-927db452a7f0",
   "metadata": {},
   "outputs": [
    {
     "data": {
      "text/html": [
       "<div>\n",
       "<style scoped>\n",
       "    .dataframe tbody tr th:only-of-type {\n",
       "        vertical-align: middle;\n",
       "    }\n",
       "\n",
       "    .dataframe tbody tr th {\n",
       "        vertical-align: top;\n",
       "    }\n",
       "\n",
       "    .dataframe thead th {\n",
       "        text-align: right;\n",
       "    }\n",
       "</style>\n",
       "<table border=\"1\" class=\"dataframe\">\n",
       "  <thead>\n",
       "    <tr style=\"text-align: right;\">\n",
       "      <th></th>\n",
       "      <th>method</th>\n",
       "      <th>$|\\langle \\Psi_g | \\Psi_t \\rangle|^2$</th>\n",
       "    </tr>\n",
       "  </thead>\n",
       "  <tbody>\n",
       "    <tr>\n",
       "      <th>0</th>\n",
       "      <td>XRVtanhS</td>\n",
       "      <td>0.873819</td>\n",
       "    </tr>\n",
       "  </tbody>\n",
       "</table>\n",
       "</div>"
      ],
      "text/plain": [
       "     method  $|\\langle \\Psi_g | \\Psi_t \\rangle|^2$\n",
       "0  XRVtanhS                               0.873819"
      ]
     },
     "execution_count": 9,
     "metadata": {},
     "output_type": "execute_result"
    }
   ],
   "source": [
    "# read in data\n",
    "circuitPre = 'XRVtanhS' \n",
    "num_blocksPre = 25\n",
    "\n",
    "# read in models\n",
    "file_name = f\"data_{state_dict[tuple(state)]}_{circuitPre}_{cutoff}_{str(delta).replace('.', '')}_{num_blocksPre}\"\n",
    "opt = optimization.Optimization(file_name=file_name)\n",
    "\n",
    "# store parameters and gates\n",
    "paramsPre = opt.get_bestSol()\n",
    "gatesPre = opt.get_gates()\n",
    "\n",
    "# print previous results\n",
    "dataBlocks = pd.DataFrame()\n",
    "dataBlocks['method'] = [circuitPre]\n",
    "dataBlocks[r'$|\\langle \\Psi_g | \\Psi_g \\rangle|^2$'] = [opt.norm_best_state()]\n",
    "dataBlocks[r'$|\\langle \\Psi_g | \\Psi_t \\rangle|^2$'] = [opt.get_bestFid()]\n",
    "dataBlocks"
   ]
  },
  {
   "cell_type": "code",
   "execution_count": 16,
   "id": "7da8a7ec-c18f-4281-b6f6-5f1895193806",
   "metadata": {},
   "outputs": [
    {
     "name": "stderr",
     "output_type": "stream",
     "text": [
      "/Users/etiennestock/Documents/packages/strawberryfields/strawberryfields/apps/data/sample.py:20: UserWarning: pkg_resources is deprecated as an API. See https://setuptools.pypa.io/en/latest/pkg_resources.html. The pkg_resources package is slated for removal as early as 2025-11-30. Refrain from using this package or pin to Setuptools<81.\n",
      "  import pkg_resources\n",
      "/Users/etiennestock/Documents/packages/strawberryfields/strawberryfields/apps/data/sample.py:20: UserWarning: pkg_resources is deprecated as an API. See https://setuptools.pypa.io/en/latest/pkg_resources.html. The pkg_resources package is slated for removal as early as 2025-11-30. Refrain from using this package or pin to Setuptools<81.\n",
      "  import pkg_resources\n",
      "Exception ignored in: <function ResourceTracker.__del__ at 0x111478680>\n",
      "Traceback (most recent call last):\n",
      "  File \"/Users/etiennestock/opt/anaconda3/envs/gkp-env/lib/python3.13/multiprocessing/resource_tracker.py\", line 82, in __del__\n",
      "  File \"/Users/etiennestock/opt/anaconda3/envs/gkp-env/lib/python3.13/multiprocessing/resource_tracker.py\", line 91, in _stop\n",
      "  File \"/Users/etiennestock/opt/anaconda3/envs/gkp-env/lib/python3.13/multiprocessing/resource_tracker.py\", line 116, in _stop_locked\n",
      "ChildProcessError: [Errno 10] No child processes\n"
     ]
    },
    {
     "name": "stdout",
     "output_type": "stream",
     "text": [
      "800.6303169727325\n",
      "[0.88854404 0.89284889]\n",
      "0.8928488904538916\n"
     ]
    },
    {
     "name": "stderr",
     "output_type": "stream",
     "text": [
      "Exception ignored in: <function ResourceTracker.__del__ at 0x11115c680>\n",
      "Traceback (most recent call last):\n",
      "  File \"/Users/etiennestock/opt/anaconda3/envs/gkp-env/lib/python3.13/multiprocessing/resource_tracker.py\", line 82, in __del__\n",
      "  File \"/Users/etiennestock/opt/anaconda3/envs/gkp-env/lib/python3.13/multiprocessing/resource_tracker.py\", line 91, in _stop\n",
      "  File \"/Users/etiennestock/opt/anaconda3/envs/gkp-env/lib/python3.13/multiprocessing/resource_tracker.py\", line 116, in _stop_locked\n",
      "ChildProcessError: [Errno 10] No child processes\n"
     ]
    }
   ],
   "source": [
    "# training data\n",
    "circuit = 'XRVtanhS'\n",
    "num_blocks = 20\n",
    "\n",
    "# initialize model\n",
    "optPre = optimization.OptimizationPre(gatesPre=auxiliary.string_to_gateset(circuitPre),\n",
    "                                      paramsPre=paramsPre, gates=auxiliary.string_to_gateset(circuit), \n",
    "                                      circuit='Pre_test', cutoff=cutoff, delta=delta, epsilon=epsilon, \n",
    "                                      num_blocks=num_blocks, num_trials=num_trials, n_jobs=num_jobs, state=state) \n",
    "\n",
    "# train \n",
    "optPre.parallel_optimize_circuit()\n",
    "\n",
    "print(timeDiff)\n",
    "print(optPre.get_Fids())\n",
    "print(optPre.get_bestFid())"
   ]
  },
  {
   "cell_type": "markdown",
   "id": "56cf4821-7c37-4881-9c39-5eec52798619",
   "metadata": {},
   "source": [
    "- improvement of 0.2 in fidelity for 13 minutes calculation time"
   ]
  }
 ],
 "metadata": {
  "kernelspec": {
   "display_name": "Python (gkp-env)",
   "language": "python",
   "name": "gkp-env"
  },
  "language_info": {
   "codemirror_mode": {
    "name": "ipython",
    "version": 3
   },
   "file_extension": ".py",
   "mimetype": "text/x-python",
   "name": "python",
   "nbconvert_exporter": "python",
   "pygments_lexer": "ipython3",
   "version": "3.13.3"
  }
 },
 "nbformat": 4,
 "nbformat_minor": 5
}
