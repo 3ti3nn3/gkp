{
 "cells": [
  {
   "cell_type": "markdown",
   "id": "f66df4ad",
   "metadata": {},
   "source": [
    "# Simulation of different circuit perparation of GKP codes"
   ]
  },
  {
   "cell_type": "code",
   "execution_count": 1,
   "id": "4d76fd0d",
   "metadata": {},
   "outputs": [
    {
     "name": "stderr",
     "output_type": "stream",
     "text": [
      "/Users/etiennestock/Documents/packages/strawberryfields/strawberryfields/apps/data/sample.py:20: UserWarning: pkg_resources is deprecated as an API. See https://setuptools.pypa.io/en/latest/pkg_resources.html. The pkg_resources package is slated for removal as early as 2025-11-30. Refrain from using this package or pin to Setuptools<81.\n",
      "  import pkg_resources\n"
     ]
    }
   ],
   "source": [
    "# import libraries\n",
    "import numpy as np\n",
    "import matplotlib.pyplot as plt\n",
    "import optimization\n",
    "import evaluation\n",
    "import pandas as pd\n",
    "import strawberryfields as sf"
   ]
  },
  {
   "cell_type": "code",
   "execution_count": 2,
   "id": "e278d20a-3f22-4e25-9746-d27c30583676",
   "metadata": {},
   "outputs": [],
   "source": [
    "# general stuff\n",
    "state_dict = {(0, 0): '0', (np.pi, 0): '1', (np.pi/2, 0): '+'} # dictionary to save the state properly\n",
    "\n",
    "def Vtanhgate(s): return sf.ops.Vgate(np.tanh(s)) \n",
    "def Kdl2c2gate(kappa): return sf.ops.Kdlcgate(kappa, 2, 2)\n",
    "def Kdl6c2gate(kappa): return sf.ops.Kdlcgate(kappa, 6, 2)\n",
    "def Kdl10c2gate(kappa): return sf.ops.Kdlcgate(kappa, 10, 2)"
   ]
  },
  {
   "cell_type": "code",
   "execution_count": 3,
   "id": "f2cb5b73",
   "metadata": {},
   "outputs": [],
   "source": [
    "# hyperparameters of the current run\n",
    "cutoff     = 60\n",
    "delta      = 0.25 \n",
    "epsilon    = delta**2 \n",
    "num_trials = 4 \n",
    "n_jobs     = 2 \n",
    "state      = [0, 0] \n",
    "num_blocks = [15] \n",
    "circuits   = ['XRKd6S']\n",
    "gates      = [\n",
    "    np.array([sf.ops.Xgate, sf.ops.Rgate, sf.ops.Kdrivengate, sf.ops.Sgate])\n",
    "] \n",
    "rev_gates  = [\n",
    "    np.array([sf.ops.Sgate, sf.ops.Kdrivengate, sf.ops.Rgate, sf.ops.Xgate])\n",
    "]"
   ]
  },
  {
   "cell_type": "code",
   "execution_count": 4,
   "id": "672a1ae0-dbd3-4c9d-b1bf-7e087401f4c6",
   "metadata": {},
   "outputs": [
    {
     "name": "stdout",
     "output_type": "stream",
     "text": [
      "0. optimization done!\n"
     ]
    }
   ],
   "source": [
    "# arrays to store data for plots and error analysis \n",
    "max_params = max(num_blocks)*max(len(gate) for gate in gates)\n",
    "opt        = np.empty(len(circuits), dtype=optimization.Optimization)\n",
    "Fids       = np.empty((len(circuits), num_trials), dtype=np.float32)\n",
    "Sols       = np.empty((len(circuits), num_trials, max_params), dtype=np.float32)\n",
    "bestFids   = np.empty(len(circuits), dtype=np.float32) \n",
    "\n",
    "# parallel optimization\n",
    "for i in range(len(circuits)): \n",
    "    opt[i] = optimization.Optimization(gates=gates[i], circuit=circuits[i], cutoff=cutoff, delta=delta, epsilon=epsilon, num_blocks=num_blocks[i], num_trials=num_trials, state=state)\n",
    "    Fids[i], Sols[i,:,:num_blocks[i]*len(gates[i])] = opt[i].parallel_optimize_circuit()   \n",
    "    bestFids[i] = opt[i].get_bestFid()\n",
    "    print(f'{i}. optimization done!')\n",
    "\n",
    "# store data in pandas data frame\n",
    "results = pd.DataFrame(data=np.array([circuits] + list([Fids[:,i] for i in range(num_trials)]) + list([bestFids])).T, columns=['method'] + [(f'{i+1}: ' + r'$\\left|\\left<0\\right| U(\\vec{\\lambda})\\left|\\Psi_t \\right>\\right|^2$') for i in range(num_trials)] + [r'$\\max_i\\left|\\left<0\\right| U(\\vec{\\lambda})\\left|\\Psi_t \\right>\\right|^2$'])"
   ]
  },
  {
   "cell_type": "code",
   "execution_count": 5,
   "id": "dfb7b74f-73a7-4592-af59-d3a80b3f2581",
   "metadata": {},
   "outputs": [],
   "source": [
    "# save data in folder data\n",
    "for i in range(len(circuits)): \n",
    "    file_name = f\"data_{state_dict[tuple(state)]}_{circuits[i]}_{cutoff}_{str(delta).replace('.', '')}_{num_blocks[i]}\"\n",
    "    opt[i].save(file_name)"
   ]
  },
  {
   "cell_type": "code",
   "execution_count": 6,
   "id": "82482ab3-b9a3-43e7-9b14-ee94cfc1537b",
   "metadata": {},
   "outputs": [
    {
     "name": "stderr",
     "output_type": "stream",
     "text": [
      "/var/folders/6q/7zspg0xj68g0zq09v2tt_hyh0000gn/T/ipykernel_33221/3565388830.py:10: ComplexWarning: Casting complex values to real discards the imaginary part\n"
     ]
    }
   ],
   "source": [
    "# prepare the target state in Fock basis, so that we can compare with our generated state\n",
    "target_GKP = evaluation.prepare_GKP(epsilon=epsilon, cutoff=cutoff, state=state).ket()\n",
    "\n",
    "# compute norm of the generated states and the fidelity between target state and generated state\n",
    "generated_GKP = np.empty((len(circuits), cutoff), dtype=np.complex64)\n",
    "normgen       = np.empty(len(circuits), dtype=np.float32)\n",
    "fid           = np.empty(len(circuits), dtype=np.float32)\n",
    "\n",
    "for i in range(len(circuits)):    \n",
    "    generated_GKP[i] = evaluation.prepare_state(rev_gates[i], -np.flip(opt[i].get_bestSol()), cutoff).ket()\n",
    "    normgen[i]       = np.dot(generated_GKP[i].conj(), generated_GKP[i])\n",
    "    fid[i]           = np.abs(np.dot(generated_GKP[i].conj(), target_GKP))**2\n",
    "\n",
    "# add results\n",
    "results[r'$|\\langle\\Psi_g|\\Psi_g\\rangle|^2$'] = normgen\n",
    "results[r'$|\\langle\\Psi_g|\\Psi_t\\rangle|^2$'] = fid"
   ]
  },
  {
   "cell_type": "code",
   "execution_count": 7,
   "id": "98ca278f-9ae7-4454-b600-3b39dbcaf918",
   "metadata": {},
   "outputs": [
    {
     "data": {
      "text/html": [
       "<div>\n",
       "<style scoped>\n",
       "    .dataframe tbody tr th:only-of-type {\n",
       "        vertical-align: middle;\n",
       "    }\n",
       "\n",
       "    .dataframe tbody tr th {\n",
       "        vertical-align: top;\n",
       "    }\n",
       "\n",
       "    .dataframe thead th {\n",
       "        text-align: right;\n",
       "    }\n",
       "</style>\n",
       "<table border=\"1\" class=\"dataframe\">\n",
       "  <thead>\n",
       "    <tr style=\"text-align: right;\">\n",
       "      <th></th>\n",
       "      <th>0</th>\n",
       "    </tr>\n",
       "  </thead>\n",
       "  <tbody>\n",
       "    <tr>\n",
       "      <th>$\\left|\\left&lt;\\Psi_t |\\Psi_t \\right&gt;\\right|^2$</th>\n",
       "      <td>1.0</td>\n",
       "    </tr>\n",
       "  </tbody>\n",
       "</table>\n",
       "</div>"
      ],
      "text/plain": [
       "                                                 0\n",
       "$\\left|\\left<\\Psi_t |\\Psi_t \\right>\\right|^2$  1.0"
      ]
     },
     "execution_count": 7,
     "metadata": {},
     "output_type": "execute_result"
    }
   ],
   "source": [
    "# calculate the norm of the target state for consistency\n",
    "normtarg = np.abs(np.dot(target_GKP.conj(), target_GKP))\n",
    "pd.DataFrame([normtarg], [r'$\\left|\\left<\\Psi_t |\\Psi_t \\right>\\right|^2$'])"
   ]
  },
  {
   "cell_type": "code",
   "execution_count": 8,
   "id": "6db22a55-c8cd-4682-8c2d-1444d8edf0ef",
   "metadata": {},
   "outputs": [
    {
     "data": {
      "text/html": [
       "<div>\n",
       "<style scoped>\n",
       "    .dataframe tbody tr th:only-of-type {\n",
       "        vertical-align: middle;\n",
       "    }\n",
       "\n",
       "    .dataframe tbody tr th {\n",
       "        vertical-align: top;\n",
       "    }\n",
       "\n",
       "    .dataframe thead th {\n",
       "        text-align: right;\n",
       "    }\n",
       "</style>\n",
       "<table border=\"1\" class=\"dataframe\">\n",
       "  <thead>\n",
       "    <tr style=\"text-align: right;\">\n",
       "      <th></th>\n",
       "      <th>method</th>\n",
       "      <th>1: $\\left|\\left&lt;0\\right| U(\\vec{\\lambda})\\left|\\Psi_t \\right&gt;\\right|^2$</th>\n",
       "      <th>2: $\\left|\\left&lt;0\\right| U(\\vec{\\lambda})\\left|\\Psi_t \\right&gt;\\right|^2$</th>\n",
       "      <th>3: $\\left|\\left&lt;0\\right| U(\\vec{\\lambda})\\left|\\Psi_t \\right&gt;\\right|^2$</th>\n",
       "      <th>4: $\\left|\\left&lt;0\\right| U(\\vec{\\lambda})\\left|\\Psi_t \\right&gt;\\right|^2$</th>\n",
       "      <th>$\\max_i\\left|\\left&lt;0\\right| U(\\vec{\\lambda})\\left|\\Psi_t \\right&gt;\\right|^2$</th>\n",
       "      <th>$|\\langle\\Psi_g|\\Psi_g\\rangle|^2$</th>\n",
       "      <th>$|\\langle\\Psi_g|\\Psi_t\\rangle|^2$</th>\n",
       "    </tr>\n",
       "  </thead>\n",
       "  <tbody>\n",
       "    <tr>\n",
       "      <th>0</th>\n",
       "      <td>XRKd6S</td>\n",
       "      <td>0.050675128</td>\n",
       "      <td>0.03161994</td>\n",
       "      <td>0.08863347</td>\n",
       "      <td>0.10438837</td>\n",
       "      <td>0.10438837</td>\n",
       "      <td>0.919074</td>\n",
       "      <td>0.104388</td>\n",
       "    </tr>\n",
       "  </tbody>\n",
       "</table>\n",
       "</div>"
      ],
      "text/plain": [
       "   method  \\\n",
       "0  XRKd6S   \n",
       "\n",
       "  1: $\\left|\\left<0\\right| U(\\vec{\\lambda})\\left|\\Psi_t \\right>\\right|^2$  \\\n",
       "0                                        0.050675128                        \n",
       "\n",
       "  2: $\\left|\\left<0\\right| U(\\vec{\\lambda})\\left|\\Psi_t \\right>\\right|^2$  \\\n",
       "0                                         0.03161994                        \n",
       "\n",
       "  3: $\\left|\\left<0\\right| U(\\vec{\\lambda})\\left|\\Psi_t \\right>\\right|^2$  \\\n",
       "0                                         0.08863347                        \n",
       "\n",
       "  4: $\\left|\\left<0\\right| U(\\vec{\\lambda})\\left|\\Psi_t \\right>\\right|^2$  \\\n",
       "0                                         0.10438837                        \n",
       "\n",
       "  $\\max_i\\left|\\left<0\\right| U(\\vec{\\lambda})\\left|\\Psi_t \\right>\\right|^2$  \\\n",
       "0                                         0.10438837                           \n",
       "\n",
       "   $|\\langle\\Psi_g|\\Psi_g\\rangle|^2$  $|\\langle\\Psi_g|\\Psi_t\\rangle|^2$  \n",
       "0                           0.919074                           0.104388  "
      ]
     },
     "execution_count": 8,
     "metadata": {},
     "output_type": "execute_result"
    }
   ],
   "source": [
    "# show results of this optimization round\n",
    "results"
   ]
  },
  {
   "cell_type": "code",
   "execution_count": 9,
   "id": "77f5e773",
   "metadata": {},
   "outputs": [
    {
     "name": "stderr",
     "output_type": "stream",
     "text": [
      "<>:17: SyntaxWarning: invalid escape sequence '\\P'\n",
      "<>:19: SyntaxWarning: invalid escape sequence '\\s'\n",
      "<>:17: SyntaxWarning: invalid escape sequence '\\P'\n",
      "<>:19: SyntaxWarning: invalid escape sequence '\\s'\n",
      "/var/folders/6q/7zspg0xj68g0zq09v2tt_hyh0000gn/T/ipykernel_33221/2402360986.py:17: SyntaxWarning: invalid escape sequence '\\P'\n",
      "/var/folders/6q/7zspg0xj68g0zq09v2tt_hyh0000gn/T/ipykernel_33221/2402360986.py:19: SyntaxWarning: invalid escape sequence '\\s'\n"
     ]
    },
    {
     "data": {
      "image/png": "[encoded data removed]",
      "text/plain": [
       "<Figure size 640x480 with 1 Axes>"
      ]
     },
     "metadata": {},
     "output_type": "display_data"
    }
   ],
   "source": [
    "# Plot probability distribution of generated and target GKP states\n",
    "qnum    = 8\n",
    "qlim    = qnum*np.sqrt(np.pi)\n",
    "qvalues = np.linspace(-qlim,qlim, 1000)\n",
    "\n",
    "targetGKPwf = evaluation.wavefunction(q=qvalues, ket=target_GKP)\n",
    "gauss       = lambda x: np.max(np.abs(targetGKPwf*targetGKPwf.conj())) * np.exp(-x**2*(delta)**2)\n",
    "\n",
    "genGKPwf    = np.empty((len(circuits), 1000), dtype=np.complex64)\n",
    "for i in range(len(circuits)):\n",
    "    genGKPwf[i] = evaluation.wavefunction(q=qvalues, ket=generated_GKP[i])\n",
    "    plt.plot(qvalues, np.abs(genGKPwf[i]*genGKPwf[i].conj()), label=f'{circuits[i]}: '+r'$|\\langle\\Psi_g|\\Psi_t\\rangle|^2$'+f' = {fid[i]:.3f}', linestyle='dotted', linewidth=2)\n",
    "\n",
    "plt.plot(qvalues, np.abs(targetGKPwf*targetGKPwf.conj()), label='target', color='purple', linewidth=0.8)\n",
    "plt.plot(qvalues, gauss(qvalues), label=r'Gaussian envelope with $\\Delta =$'+f'{delta}', color='black', linewidth=0.5)\n",
    "\n",
    "plt.ylabel(\"$|\\Psi(q)|^2$\")\n",
    "plt.xticks(np.sqrt(np.pi)*np.arange(-qnum, qnum), np.arange(-qnum, qnum))\n",
    "plt.xlabel(\"$q/\\sqrt{\\pi}$\")\n",
    "plt.xlim(np.min(qvalues), np.max(qvalues))\n",
    "plt.ylim(0, np.max(np.abs(targetGKPwf*targetGKPwf.conj()))+0.1)\n",
    "plt.title(f'Circuit with {np.max(num_blocks)} preparation rounds and cutoff {cutoff}')\n",
    "plt.legend()\n",
    "\n",
    "plt.savefig(f'plots/plot_{cutoff}_{str(delta).replace(\".\", \"\")}_{np.max(num_blocks)}_' + '_'.join(str(c) for c in circuits) + '.png')\n",
    "plt.show()"
   ]
  },
  {
   "cell_type": "code",
   "execution_count": 10,
   "id": "7427dd54",
   "metadata": {},
   "outputs": [
    {
     "name": "stderr",
     "output_type": "stream",
     "text": [
      "/var/folders/6q/7zspg0xj68g0zq09v2tt_hyh0000gn/T/ipykernel_33221/1311979444.py:7: FutureWarning: Setting an item of incompatible dtype is deprecated and will raise an error in a future version of pandas. Value '0.890952557848503' has dtype incompatible with float32, please explicitly cast to a compatible dtype first.\n"
     ]
    }
   ],
   "source": [
    "# calculate the Knill-Glancy error\n",
    "n    = 30 \n",
    "size = 30 \n",
    "\n",
    "results[r'$P_{\\text{error}}$'] = np.empty(len(circuits), dtype=np.float32)\n",
    "for i in range(len(circuits)): \n",
    "    results.loc[i, r'$P_{\\text{error}}$'] = evaluation.error_gancy_knill(generated_GKP[i], n, size)"
   ]
  },
  {
   "cell_type": "code",
   "execution_count": 11,
   "id": "6eb4ed82-1b58-49e6-985d-2a625d7bdcf0",
   "metadata": {},
   "outputs": [
    {
     "data": {
      "text/html": [
       "<div>\n",
       "<style scoped>\n",
       "    .dataframe tbody tr th:only-of-type {\n",
       "        vertical-align: middle;\n",
       "    }\n",
       "\n",
       "    .dataframe tbody tr th {\n",
       "        vertical-align: top;\n",
       "    }\n",
       "\n",
       "    .dataframe thead th {\n",
       "        text-align: right;\n",
       "    }\n",
       "</style>\n",
       "<table border=\"1\" class=\"dataframe\">\n",
       "  <thead>\n",
       "    <tr style=\"text-align: right;\">\n",
       "      <th></th>\n",
       "      <th>method</th>\n",
       "      <th>1: $\\left|\\left&lt;0\\right| U(\\vec{\\lambda})\\left|\\Psi_t \\right&gt;\\right|^2$</th>\n",
       "      <th>2: $\\left|\\left&lt;0\\right| U(\\vec{\\lambda})\\left|\\Psi_t \\right&gt;\\right|^2$</th>\n",
       "      <th>3: $\\left|\\left&lt;0\\right| U(\\vec{\\lambda})\\left|\\Psi_t \\right&gt;\\right|^2$</th>\n",
       "      <th>4: $\\left|\\left&lt;0\\right| U(\\vec{\\lambda})\\left|\\Psi_t \\right&gt;\\right|^2$</th>\n",
       "      <th>$\\max_i\\left|\\left&lt;0\\right| U(\\vec{\\lambda})\\left|\\Psi_t \\right&gt;\\right|^2$</th>\n",
       "      <th>$|\\langle\\Psi_g|\\Psi_g\\rangle|^2$</th>\n",
       "      <th>$|\\langle\\Psi_g|\\Psi_t\\rangle|^2$</th>\n",
       "      <th>$P_{\\text{error}}$</th>\n",
       "    </tr>\n",
       "  </thead>\n",
       "  <tbody>\n",
       "    <tr>\n",
       "      <th>0</th>\n",
       "      <td>XRKd6S</td>\n",
       "      <td>0.050675128</td>\n",
       "      <td>0.03161994</td>\n",
       "      <td>0.08863347</td>\n",
       "      <td>0.10438837</td>\n",
       "      <td>0.10438837</td>\n",
       "      <td>0.919074</td>\n",
       "      <td>0.104388</td>\n",
       "      <td>0.890953</td>\n",
       "    </tr>\n",
       "  </tbody>\n",
       "</table>\n",
       "</div>"
      ],
      "text/plain": [
       "   method  \\\n",
       "0  XRKd6S   \n",
       "\n",
       "  1: $\\left|\\left<0\\right| U(\\vec{\\lambda})\\left|\\Psi_t \\right>\\right|^2$  \\\n",
       "0                                        0.050675128                        \n",
       "\n",
       "  2: $\\left|\\left<0\\right| U(\\vec{\\lambda})\\left|\\Psi_t \\right>\\right|^2$  \\\n",
       "0                                         0.03161994                        \n",
       "\n",
       "  3: $\\left|\\left<0\\right| U(\\vec{\\lambda})\\left|\\Psi_t \\right>\\right|^2$  \\\n",
       "0                                         0.08863347                        \n",
       "\n",
       "  4: $\\left|\\left<0\\right| U(\\vec{\\lambda})\\left|\\Psi_t \\right>\\right|^2$  \\\n",
       "0                                         0.10438837                        \n",
       "\n",
       "  $\\max_i\\left|\\left<0\\right| U(\\vec{\\lambda})\\left|\\Psi_t \\right>\\right|^2$  \\\n",
       "0                                         0.10438837                           \n",
       "\n",
       "   $|\\langle\\Psi_g|\\Psi_g\\rangle|^2$  $|\\langle\\Psi_g|\\Psi_t\\rangle|^2$  \\\n",
       "0                           0.919074                           0.104388   \n",
       "\n",
       "   $P_{\\text{error}}$  \n",
       "0            0.890953  "
      ]
     },
     "execution_count": 11,
     "metadata": {},
     "output_type": "execute_result"
    }
   ],
   "source": [
    "results"
   ]
  }
 ],
 "metadata": {
  "kernelspec": {
   "display_name": "Python (gkp-env)",
   "language": "python",
   "name": "gkp-env"
  },
  "language_info": {
   "codemirror_mode": {
    "name": "ipython",
    "version": 3
   },
   "file_extension": ".py",
   "mimetype": "text/x-python",
   "name": "python",
   "nbconvert_exporter": "python",
   "pygments_lexer": "ipython3",
   "version": "3.13.3"
  }
 },
 "nbformat": 4,
 "nbformat_minor": 5
}
