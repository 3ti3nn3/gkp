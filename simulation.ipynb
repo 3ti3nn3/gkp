{
 "cells": [
  {
   "cell_type": "markdown",
   "id": "f66df4ad",
   "metadata": {},
   "source": [
    "# Simulation of different circuit perparation of GKP codes"
   ]
  },
  {
   "cell_type": "code",
   "execution_count": 1,
   "id": "4d76fd0d",
   "metadata": {},
   "outputs": [
    {
     "name": "stderr",
     "output_type": "stream",
     "text": [
      "/Users/etiennestock/Documents/packages/strawberryfields/strawberryfields/apps/data/sample.py:20: UserWarning: pkg_resources is deprecated as an API. See https://setuptools.pypa.io/en/latest/pkg_resources.html. The pkg_resources package is slated for removal as early as 2025-11-30. Refrain from using this package or pin to Setuptools<81.\n",
      "  import pkg_resources\n"
     ]
    }
   ],
   "source": [
    "# import libraries\n",
    "import numpy as np\n",
    "import matplotlib.pyplot as plt\n",
    "import optimization\n",
    "import evaluation\n",
    "import auxiliary\n",
    "import pandas as pd\n",
    "import time\n",
    "import strawberryfields as sf"
   ]
  },
  {
   "cell_type": "code",
   "execution_count": 2,
   "id": "e278d20a-3f22-4e25-9746-d27c30583676",
   "metadata": {},
   "outputs": [],
   "source": [
    "# gates\n",
    "def Scgate(phi): return sf.ops.Sgate(1, phi)\n",
    "def Dcgate(phi): return sf.ops.Dgate(1, phi)\n",
    "def Vconst(theta): return so.ops.Vgate(np.sign(theta)*1)\n",
    "def Vtanhgate(s): return sf.ops.Vgate(np.tanh(s))\n",
    "def V4tanhgate(s): return sf.ops.Vkgate(np.tanh(s), 4)\n",
    "def V5gate(s): return sf.ops.Vkgate(s, 5)\n",
    "def V5tanhgate(s): return sf.ops.Vkgate(np.tanh(s), 5)\n",
    "def V6tanhgate(s): return sf.ops.Vkgate(np.tanh(s), 6)\n",
    "def V7tanhgate(s): return sf.ops.Vkgate(np.tanh(s), 7)\n",
    "def V8tanhgate(s): return sf.ops.Vkgate(np.tanh(s), 8)\n",
    "def V9tanhgate(s): return sf.ops.Vkgate(np.tanh(s), 9)\n",
    "def V11tanhgate(s): return sf.ops.Vkgate(np.tanh(s), 11)\n",
    "def Kdl2c2gate(kappa): return sf.ops.Kdlcgate(kappa, 2, 2)\n",
    "def Kdl6c2gate(kappa): return sf.ops.Kdlcgate(kappa, 6, 2)\n",
    "def Kdl10c2gate(kappa): return sf.ops.Kdlcgate(kappa, 10, 2)"
   ]
  },
  {
   "cell_type": "code",
   "execution_count": 3,
   "id": "f2cb5b73",
   "metadata": {},
   "outputs": [],
   "source": [
    "# hyperparameters of the current run\n",
    "cutoffs    = [30, 60, 90]\n",
    "delta      = 0.25 \n",
    "num_trials = 2 \n",
    "n_jobs     = 2 \n",
    "state      = [0, 0] \n",
    "num_blocks = [35, 40, 45] \n",
    "circuits   = ['XRVconstS', 'XRVconstS', 'XRVconstS']\n",
    "\n",
    "epsilon = delta**2 \n",
    "gates   = [auxiliary.string_to_gateset(circuit) for circuit in circuits] "
   ]
  },
  {
   "cell_type": "code",
   "execution_count": 4,
   "id": "672a1ae0-dbd3-4c9d-b1bf-7e087401f4c6",
   "metadata": {},
   "outputs": [
    {
     "name": "stdout",
     "output_type": "stream",
     "text": [
      "XRVconstS optimization done in 14 minutes and 57 seconds.\n",
      "fidelity: [0.97003377 0.98938464]\n",
      "norm: 0.9902053678855558\n",
      "consistency check: True\n",
      "XRVconstS optimization done in 17 minutes and 34 seconds.\n",
      "fidelity: [0.88005492 0.87915031]\n",
      "norm: 0.9351400058418357\n",
      "consistency check: True\n",
      "XRVconstS optimization done in 39 minutes and 1 seconds.\n",
      "fidelity: [0.68582179 0.82952005]\n",
      "norm: 0.9154520893378738\n",
      "consistency check: True\n"
     ]
    }
   ],
   "source": [
    "# arrays to store data for plots and error analysis \n",
    "opt = []\n",
    "fids = []\n",
    "bestFids = []\n",
    "bestNorm = []\n",
    "timeDiff = []\n",
    "\n",
    "# parallel optimization\n",
    "for i in range(len(circuits)): \n",
    "    opt.append(optimization.Optimization(gates=gates[i], circuit=circuits[i], cutoff=cutoffs[i], delta=delta, epsilon=epsilon, num_blocks=num_blocks[i], num_trials=num_trials, state=state))\n",
    "    time1 = time.clock_gettime(0)\n",
    "    fid, _ = opt[i].parallel_optimize_circuit()   \n",
    "    timeDiff.append(time.clock_gettime(0) - time1)\n",
    "    \n",
    "    fids.append(fid)\n",
    "    bestFids.append(opt[i].get_bestFid())\n",
    "    bestNorm.append(opt[i].norm_best_state())\n",
    "    \n",
    "    print(f'{circuits[i]} optimization done in {int(opt[i].get_time()//60)} minutes and {opt[i].get_time()%60:.0f} seconds.')\n",
    "    print(f'fidelity: {fids[i]}')\n",
    "    print(f'norm: {bestNorm[i]}')\n",
    "    print(f'consistency check: {opt[i].check_fidelity()}')"
   ]
  },
  {
   "cell_type": "code",
   "execution_count": 5,
   "id": "dfb7b74f-73a7-4592-af59-d3a80b3f2581",
   "metadata": {},
   "outputs": [
    {
     "name": "stdout",
     "output_type": "stream",
     "text": [
      "0\n",
      "1\n",
      "2\n"
     ]
    }
   ],
   "source": [
    "# save data in folder data\n",
    "for i in range(len(circuits)): \n",
    "    file_name = f\"data_{auxiliary.state_dict[tuple(state)]}_{circuits[i]}_{cutoffs[i]}_{str(delta).replace('.', '')}_{num_blocks[i]}\"\n",
    "    print(i)\n",
    "    opt[i].save(file_name)"
   ]
  },
  {
   "cell_type": "code",
   "execution_count": 7,
   "id": "82482ab3-b9a3-43e7-9b14-ee94cfc1537b",
   "metadata": {},
   "outputs": [
    {
     "data": {
      "text/html": [
       "<div>\n",
       "<style scoped>\n",
       "    .dataframe tbody tr th:only-of-type {\n",
       "        vertical-align: middle;\n",
       "    }\n",
       "\n",
       "    .dataframe tbody tr th {\n",
       "        vertical-align: top;\n",
       "    }\n",
       "\n",
       "    .dataframe thead th {\n",
       "        text-align: right;\n",
       "    }\n",
       "</style>\n",
       "<table border=\"1\" class=\"dataframe\">\n",
       "  <thead>\n",
       "    <tr style=\"text-align: right;\">\n",
       "      <th></th>\n",
       "      <th>circuit</th>\n",
       "      <th>$n_{\\text{cutoff}}$</th>\n",
       "      <th>$n_{params}$</th>\n",
       "      <th>$|\\langle\\Psi_g|\\Psi_g\\rangle|^2$</th>\n",
       "      <th>$|\\langle\\Psi_g|\\Psi_t\\rangle|^2$</th>\n",
       "      <th>running time</th>\n",
       "    </tr>\n",
       "  </thead>\n",
       "  <tbody>\n",
       "    <tr>\n",
       "      <th>0</th>\n",
       "      <td>XRVconstS</td>\n",
       "      <td>30</td>\n",
       "      <td>140</td>\n",
       "      <td>0.990205</td>\n",
       "      <td>0.989385</td>\n",
       "      <td>897.167207</td>\n",
       "    </tr>\n",
       "    <tr>\n",
       "      <th>1</th>\n",
       "      <td>XRVconstS</td>\n",
       "      <td>60</td>\n",
       "      <td>160</td>\n",
       "      <td>0.935140</td>\n",
       "      <td>0.880055</td>\n",
       "      <td>1054.349869</td>\n",
       "    </tr>\n",
       "    <tr>\n",
       "      <th>2</th>\n",
       "      <td>XRVconstS</td>\n",
       "      <td>90</td>\n",
       "      <td>180</td>\n",
       "      <td>0.915452</td>\n",
       "      <td>0.829520</td>\n",
       "      <td>2341.249794</td>\n",
       "    </tr>\n",
       "  </tbody>\n",
       "</table>\n",
       "</div>"
      ],
      "text/plain": [
       "     circuit  $n_{\\text{cutoff}}$  $n_{params}$  \\\n",
       "0  XRVconstS                   30           140   \n",
       "1  XRVconstS                   60           160   \n",
       "2  XRVconstS                   90           180   \n",
       "\n",
       "   $|\\langle\\Psi_g|\\Psi_g\\rangle|^2$  $|\\langle\\Psi_g|\\Psi_t\\rangle|^2$  \\\n",
       "0                           0.990205                           0.989385   \n",
       "1                           0.935140                           0.880055   \n",
       "2                           0.915452                           0.829520   \n",
       "\n",
       "   running time  \n",
       "0    897.167207  \n",
       "1   1054.349869  \n",
       "2   2341.249794  "
      ]
     },
     "execution_count": 7,
     "metadata": {},
     "output_type": "execute_result"
    }
   ],
   "source": [
    "# add results\n",
    "results = pd.DataFrame()\n",
    "results['circuit'] = circuits\n",
    "results[r'$n_{\\text{cutoff}}$'] = cutoffs\n",
    "results[r'$n_{params}$'] = np.array([auxiliary.count_gates(circuit) for circuit in circuits])*np.array(num_blocks)\n",
    "results[r'$|\\langle\\Psi_g|\\Psi_g\\rangle|^2$'] = bestNorm\n",
    "results[r'$|\\langle\\Psi_g|\\Psi_t\\rangle|^2$'] = bestFids\n",
    "results['running time'] = timeDiff\n",
    "results"
   ]
  },
  {
   "cell_type": "code",
   "execution_count": 8,
   "id": "77f5e773",
   "metadata": {},
   "outputs": [
    {
     "name": "stderr",
     "output_type": "stream",
     "text": [
      "<>:18: SyntaxWarning: invalid escape sequence '\\P'\n",
      "<>:20: SyntaxWarning: invalid escape sequence '\\s'\n",
      "<>:18: SyntaxWarning: invalid escape sequence '\\P'\n",
      "<>:20: SyntaxWarning: invalid escape sequence '\\s'\n",
      "/var/folders/6q/7zspg0xj68g0zq09v2tt_hyh0000gn/T/ipykernel_1593/2438886067.py:18: SyntaxWarning: invalid escape sequence '\\P'\n",
      "/var/folders/6q/7zspg0xj68g0zq09v2tt_hyh0000gn/T/ipykernel_1593/2438886067.py:20: SyntaxWarning: invalid escape sequence '\\s'\n",
      "/var/folders/6q/7zspg0xj68g0zq09v2tt_hyh0000gn/T/ipykernel_1593/2438886067.py:18: SyntaxWarning: invalid escape sequence '\\P'\n",
      "/var/folders/6q/7zspg0xj68g0zq09v2tt_hyh0000gn/T/ipykernel_1593/2438886067.py:20: SyntaxWarning: invalid escape sequence '\\s'\n"
     ]
    },
    {
     "ename": "NameError",
     "evalue": "name 'cutoff' is not defined",
     "output_type": "error",
     "traceback": [
      "\u001b[31m---------------------------------------------------------------------------\u001b[39m",
      "\u001b[31mNameError\u001b[39m                                 Traceback (most recent call last)",
      "\u001b[36mCell\u001b[39m\u001b[36m \u001b[39m\u001b[32mIn[8]\u001b[39m\u001b[32m, line 6\u001b[39m\n\u001b[32m      3\u001b[39m qlim = qnum*np.sqrt(np.pi)\n\u001b[32m      4\u001b[39m qvalues = np.linspace(-qlim,qlim, \u001b[32m1000\u001b[39m)\n\u001b[32m----> \u001b[39m\u001b[32m6\u001b[39m ket_GKP = evaluation.prepare_GKP(epsilon=epsilon, cutoff=\u001b[43mcutoff\u001b[49m, state=state).ket()\n\u001b[32m      7\u001b[39m wf_GKP = evaluation.wavefunction(q=qvalues, ket=ket_GKP)\n\u001b[32m      8\u001b[39m gauss = \u001b[38;5;28;01mlambda\u001b[39;00m x: np.max(np.abs(wf_GKP*wf_GKP.conj())) * np.exp(-x**\u001b[32m2\u001b[39m*(delta)**\u001b[32m2\u001b[39m)\n",
      "\u001b[31mNameError\u001b[39m: name 'cutoff' is not defined"
     ]
    }
   ],
   "source": [
    "# Plot probability distribution of generated and target GKP states\n",
    "qnum = 8\n",
    "qlim = qnum*np.sqrt(np.pi)\n",
    "qvalues = np.linspace(-qlim,qlim, 1000)\n",
    "\n",
    "ket_GKP = evaluation.prepare_GKP(epsilon=epsilon, cutoff=cutoff, state=state).ket()\n",
    "wf_GKP = evaluation.wavefunction(q=qvalues, ket=ket_GKP)\n",
    "gauss = lambda x: np.max(np.abs(wf_GKP*wf_GKP.conj())) * np.exp(-x**2*(delta)**2)\n",
    "\n",
    "for i in range(len(circuits)):\n",
    "    ket_rec = opt[i].prepare_best_state().ket()\n",
    "    wf_rec = evaluation.wavefunction(q=qvalues, ket=ket_rec)\n",
    "    plt.plot(qvalues, np.abs(wf_rec*wf_rec.conj()), label=f'{circuits[i]}: '+r'$|\\langle\\Psi_g|\\Psi_t\\rangle|^2$'+f' = {bestFids[i]:.3f}', linestyle='dotted', linewidth=2)\n",
    "\n",
    "plt.plot(qvalues, np.abs(wf_GKP*wf_GKP.conj()), label='target', color='purple', linewidth=0.8)\n",
    "plt.plot(qvalues, gauss(qvalues), label=r'Gaussian envelope with $\\Delta =$'+f'{delta}', color='black', linewidth=0.5)\n",
    "\n",
    "plt.ylabel(\"$|\\Psi(q)|^2$\")\n",
    "plt.xticks(np.sqrt(np.pi)*np.arange(-qnum, qnum), np.arange(-qnum, qnum))\n",
    "plt.xlabel(\"$q/\\sqrt{\\pi}$\")\n",
    "plt.xlim(np.min(qvalues), np.max(qvalues))\n",
    "plt.ylim(0, np.max(np.abs(wf_GKP*wf_GKP.conj()))+0.1)\n",
    "plt.title(f'Circuit with {np.max(num_blocks)} preparation rounds and cutoff {cutoff}')\n",
    "plt.legend()\n",
    "\n",
    "plt.savefig(f'plots/plot_{cutoff}_{str(delta).replace(\".\", \"\")}_{np.max(num_blocks)}_' + '_'.join(str(c) for c in circuits) + '.png')\n",
    "plt.show()"
   ]
  },
  {
   "cell_type": "code",
   "execution_count": null,
   "id": "7427dd54",
   "metadata": {},
   "outputs": [],
   "source": [
    "# # calculate the Knill-Glancy error\n",
    "# n    = 30 \n",
    "# size = 30 \n",
    "\n",
    "# results[r'$P_{\\text{error}}$'] = np.empty(len(circuits), dtype=np.float32)\n",
    "# for i in range(len(circuits)): \n",
    "#     ket_rec = opt[i].prepare_best_state().ket()\n",
    "#     wf_rec = evaluation.wavefunction(q=qvalues, ket=ket_rec)\n",
    "#     results.loc[i, r'$P_{\\text{error}}$'] = evaluation.error_gancy_knill(wf_rec, n, size)\n",
    "\n",
    "# results"
   ]
  }
 ],
 "metadata": {
  "kernelspec": {
   "display_name": "Python (gkp-env)",
   "language": "python",
   "name": "gkp-env"
  },
  "language_info": {
   "codemirror_mode": {
    "name": "ipython",
    "version": 3
   },
   "file_extension": ".py",
   "mimetype": "text/x-python",
   "name": "python",
   "nbconvert_exporter": "python",
   "pygments_lexer": "ipython3",
   "version": "3.13.3"
  }
 },
 "nbformat": 4,
 "nbformat_minor": 5
}
