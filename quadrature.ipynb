{
 "cells": [
  {
   "cell_type": "code",
   "execution_count": 1,
   "id": "c1de3bc9-c057-488b-aaa6-0c49a89b0820",
   "metadata": {},
   "outputs": [
    {
     "name": "stdout",
     "output_type": "stream",
     "text": [
      "Intel MKL WARNING: Support of Intel(R) Streaming SIMD Extensions 4.2 (Intel(R) SSE4.2) enabled only processors has been deprecated. Intel oneAPI Math Kernel Library 2025.0 will require Intel(R) Advanced Vector Extensions (Intel(R) AVX) instructions.\n",
      "Intel MKL WARNING: Support of Intel(R) Streaming SIMD Extensions 4.2 (Intel(R) SSE4.2) enabled only processors has been deprecated. Intel oneAPI Math Kernel Library 2025.0 will require Intel(R) Advanced Vector Extensions (Intel(R) AVX) instructions.\n"
     ]
    }
   ],
   "source": [
    "# packages\n",
    "import sympy\n",
    "import numpy as np"
   ]
  },
  {
   "cell_type": "markdown",
   "id": "1a4a686a-26ca-4e00-8bb3-6b174c69d957",
   "metadata": {},
   "source": [
    "## Operators"
   ]
  },
  {
   "cell_type": "code",
   "execution_count": 2,
   "id": "aff5852e-644b-4595-a730-a851a1a1cd2a",
   "metadata": {},
   "outputs": [],
   "source": [
    "# initial quadratures, non cummuting\n",
    "q0, p0 = sympy.symbols('q_0 p_0', commutative=False)\n",
    "\n",
    "# circuit parameters\n",
    "r, theta, c, s = sympy.symbols('r_0 theta_0 c_0 s_0')\n",
    "\n",
    "# q component of the gates: squeezing, rotation, position displacement and cubic phase gate\n",
    "Sq = q0 * sympy.exp(r)\n",
    "Rq = q0 * sympy.cos(theta) + p0 * sympy.sin(theta)\n",
    "Xq = q0 + c\n",
    "Cq = q0\n",
    "\n",
    "# p component of the gates: squeezing, roatation, position displacement and cubic phase gate\n",
    "Sp = p0 * sympy.exp(-r)\n",
    "Rp = -q0 * sympy.sin(theta) + p0 * sympy.cos(theta)\n",
    "Xp = p0\n",
    "Cp = q0**2 * (-3*s) + p0*s"
   ]
  },
  {
   "cell_type": "markdown",
   "id": "109440fa-81e9-4e93-a70c-8d18a1bd47dc",
   "metadata": {},
   "source": [
    "### Squeezing gate\n",
    "\n",
    "$S(r) = \\exp\\left( i \\frac{r}{2} \\left(\\hat{q} \\hat{p} + \\hat{p} \\hat{q} \\right)\\right)$"
   ]
  },
  {
   "cell_type": "code",
   "execution_count": 3,
   "id": "c2792da0-5d96-40a8-9ac9-b1c8fd365f04",
   "metadata": {},
   "outputs": [
    {
     "data": {
      "text/latex": [
       "$\\displaystyle q_{0} e^{r_{0}}$"
      ],
      "text/plain": [
       "q_0*exp(r_0)"
      ]
     },
     "execution_count": 3,
     "metadata": {},
     "output_type": "execute_result"
    }
   ],
   "source": [
    "Sq"
   ]
  },
  {
   "cell_type": "code",
   "execution_count": 4,
   "id": "6caca40a-b75c-4dd9-a020-a23117825405",
   "metadata": {},
   "outputs": [
    {
     "data": {
      "text/latex": [
       "$\\displaystyle p_{0} e^{- r_{0}}$"
      ],
      "text/plain": [
       "p_0*exp(-r_0)"
      ]
     },
     "execution_count": 4,
     "metadata": {},
     "output_type": "execute_result"
    }
   ],
   "source": [
    "Sp"
   ]
  },
  {
   "cell_type": "markdown",
   "id": "b6f65ce9-725e-49c4-9e2b-71d89ebbcf1b",
   "metadata": {},
   "source": [
    "### Rotation gate\n",
    "\n",
    "$R(\\theta) = \\exp\\left( i \\frac{\\theta}{2} \\left( \\hat{q}^2 + \\hat{p}^2 \\right) \\right)$ "
   ]
  },
  {
   "cell_type": "code",
   "execution_count": 5,
   "id": "58450de5-87a8-406e-8bda-857b9f4eb2da",
   "metadata": {},
   "outputs": [
    {
     "data": {
      "text/latex": [
       "$\\displaystyle p_{0} \\sin{\\left(\\theta_{0} \\right)} + q_{0} \\cos{\\left(\\theta_{0} \\right)}$"
      ],
      "text/plain": [
       "p_0*sin(theta_0) + q_0*cos(theta_0)"
      ]
     },
     "execution_count": 5,
     "metadata": {},
     "output_type": "execute_result"
    }
   ],
   "source": [
    "Rq"
   ]
  },
  {
   "cell_type": "code",
   "execution_count": 6,
   "id": "6a84ebac-849f-4a7e-9039-bb57ad9411bd",
   "metadata": {},
   "outputs": [
    {
     "data": {
      "text/latex": [
       "$\\displaystyle p_{0} \\cos{\\left(\\theta_{0} \\right)} - q_{0} \\sin{\\left(\\theta_{0} \\right)}$"
      ],
      "text/plain": [
       "p_0*cos(theta_0) - q_0*sin(theta_0)"
      ]
     },
     "execution_count": 6,
     "metadata": {},
     "output_type": "execute_result"
    }
   ],
   "source": [
    "Rp"
   ]
  },
  {
   "cell_type": "markdown",
   "id": "7f737d26-aaa7-44c3-9987-cfbd859470f1",
   "metadata": {},
   "source": [
    "### Position displacement gate\n",
    "\n",
    "$X(c) = \\exp\\left(-ic \\hat{p}\\right)$"
   ]
  },
  {
   "cell_type": "code",
   "execution_count": 7,
   "id": "c21c50bc-8e40-472c-aa62-fedbc0647f88",
   "metadata": {},
   "outputs": [
    {
     "data": {
      "text/latex": [
       "$\\displaystyle c_{0} + q_{0}$"
      ],
      "text/plain": [
       "c_0 + q_0"
      ]
     },
     "execution_count": 7,
     "metadata": {},
     "output_type": "execute_result"
    }
   ],
   "source": [
    "Xq"
   ]
  },
  {
   "cell_type": "code",
   "execution_count": 8,
   "id": "3d4e54c7-b676-482c-92bf-0e5f145bd08a",
   "metadata": {},
   "outputs": [
    {
     "data": {
      "text/latex": [
       "$\\displaystyle p_{0}$"
      ],
      "text/plain": [
       "p_0"
      ]
     },
     "execution_count": 8,
     "metadata": {},
     "output_type": "execute_result"
    }
   ],
   "source": [
    "Xp"
   ]
  },
  {
   "cell_type": "markdown",
   "id": "3a63171d-2c60-4ebd-8203-9db978e4f967",
   "metadata": {},
   "source": [
    "### Cubic phase gate \n",
    "\n",
    "$C(s) = \\exp\\left( -is\\hat{q}^3 \\right)$"
   ]
  },
  {
   "cell_type": "code",
   "execution_count": 9,
   "id": "41c4fdd1-82d5-492e-b42e-b13d70947df6",
   "metadata": {},
   "outputs": [
    {
     "data": {
      "text/latex": [
       "$\\displaystyle q_{0}$"
      ],
      "text/plain": [
       "q_0"
      ]
     },
     "execution_count": 9,
     "metadata": {},
     "output_type": "execute_result"
    }
   ],
   "source": [
    "Cq"
   ]
  },
  {
   "cell_type": "code",
   "execution_count": 10,
   "id": "fc7e2fe7-a22a-4e86-ae39-c2d174f2d2e9",
   "metadata": {},
   "outputs": [
    {
     "data": {
      "text/latex": [
       "$\\displaystyle p_{0} s_{0} - 3 q_{0}^{2} s_{0}$"
      ],
      "text/plain": [
       "p_0*s_0 - 3*q_0**2*s_0"
      ]
     },
     "execution_count": 10,
     "metadata": {},
     "output_type": "execute_result"
    }
   ],
   "source": [
    "Cp"
   ]
  },
  {
   "cell_type": "markdown",
   "id": "fd434a4a-c9ff-487f-b709-a8cc1b396a3c",
   "metadata": {},
   "source": [
    "## Circuit preparation\n",
    "$\n",
    "\\begin{equation}\n",
    "    \\begin{pmatrix}\n",
    "        \\hat{q}_0 \\\\\n",
    "        \\hat{p}_0\n",
    "    \\end{pmatrix} \\mapsto \n",
    "    \\begin{pmatrix}\n",
    "        \\hat{q}_1 \\\\\n",
    "        \\hat{p}_1\n",
    "    \\end{pmatrix} = \n",
    "    \\prod_{i=1}^{n_{\\text{Blocks}}}  S(r_i) C(s_i) R(\\theta_i) X(c_i) \n",
    "    \\begin{pmatrix}\n",
    "        \\hat{q} \\\\\n",
    "        \\hat{p} \n",
    "    \\end{pmatrix}\n",
    "    X(c_i)^\\dagger R(\\theta_i)^\\dagger C(s_i)^\\dagger S(r_i)^\\dagger \n",
    "\\end{equation}\n",
    "$"
   ]
  },
  {
   "cell_type": "markdown",
   "id": "e3b17854-61b8-49b6-98cb-fd463979edc3",
   "metadata": {},
   "source": [
    "### One round cricuit"
   ]
  },
  {
   "cell_type": "code",
   "execution_count": 11,
   "id": "1b0d78c2-2d09-4cf8-bb18-a0769be5d095",
   "metadata": {},
   "outputs": [],
   "source": [
    "# q and p component for one round of application of the optimisation circuit\n",
    "q1 = Xq.subs({q0: Rq, p0: Rp}, simultaneous=True).subs({q0: Cq, p0: Cp}, simultaneous=True).subs({q0: Sq, p0: Sp}, simultaneous=True)\n",
    "p1 = Xp.subs({p0: Rp}, simultaneous=True).subs({q0: Cq, p0: Cp}, simultaneous=True).subs({q0: Sq, p0: Sp}, simultaneous=True)"
   ]
  },
  {
   "cell_type": "code",
   "execution_count": 12,
   "id": "0dd57d35-ec46-4663-aee3-c1e0d2ba8c85",
   "metadata": {},
   "outputs": [
    {
     "data": {
      "text/latex": [
       "$\\displaystyle c_{0} + q_{0} e^{r_{0}} \\cos{\\left(\\theta_{0} \\right)} + \\left(p_{0} s_{0} e^{- r_{0}} - 3 q_{0}^{2} s_{0} e^{2 r_{0}}\\right) \\sin{\\left(\\theta_{0} \\right)}$"
      ],
      "text/plain": [
       "c_0 + q_0*exp(r_0)*cos(theta_0) + (p_0*s_0*exp(-r_0) - 3*q_0**2*s_0*exp(2*r_0))*sin(theta_0)"
      ]
     },
     "execution_count": 12,
     "metadata": {},
     "output_type": "execute_result"
    }
   ],
   "source": [
    "q1"
   ]
  },
  {
   "cell_type": "code",
   "execution_count": 13,
   "id": "3f225cb2-f069-43d9-b53d-f63783195547",
   "metadata": {},
   "outputs": [
    {
     "data": {
      "text/latex": [
       "$\\displaystyle - q_{0} e^{r_{0}} \\sin{\\left(\\theta_{0} \\right)} + \\left(p_{0} s_{0} e^{- r_{0}} - 3 q_{0}^{2} s_{0} e^{2 r_{0}}\\right) \\cos{\\left(\\theta_{0} \\right)}$"
      ],
      "text/plain": [
       "-q_0*exp(r_0)*sin(theta_0) + (p_0*s_0*exp(-r_0) - 3*q_0**2*s_0*exp(2*r_0))*cos(theta_0)"
      ]
     },
     "execution_count": 13,
     "metadata": {},
     "output_type": "execute_result"
    }
   ],
   "source": [
    "p1"
   ]
  },
  {
   "cell_type": "markdown",
   "id": "a90fa7b2-41b7-4fdd-b447-d919349edb8b",
   "metadata": {},
   "source": [
    "### Arbirtrary rounds"
   ]
  },
  {
   "cell_type": "code",
   "execution_count": 14,
   "id": "d28163b9-625f-4f5e-91fc-fde833dad514",
   "metadata": {},
   "outputs": [],
   "source": [
    "num_blocks = 2\n",
    "\n",
    "r, theta, c, s = sympy.symbols('r_0 theta_0 c_0 s_0')\n",
    "\n",
    "Sq = q0 * sympy.exp(r)\n",
    "Rq = q0 * sympy.cos(theta) + p0 * sympy.sin(theta)\n",
    "Xq = q0 + c\n",
    "Cq = q0\n",
    "\n",
    "Sp = p0 * sympy.exp(-r)\n",
    "Rp = -q0 * sympy.sin(theta) + p0 * sympy.cos(theta)\n",
    "Xp = p0\n",
    "Cp = q0**2 * (-3*s) + p0*s\n",
    "\n",
    "q1 = Xq.subs({q0: Rq, p0: Rp}, simultaneous=True).subs({q0: Cq, p0: Cp}, simultaneous=True).subs({q0: Sq, p0: Sp}, simultaneous=True)\n",
    "p1 = Xp.subs({p0: Rp}, simultaneous=True).subs({q0: Cq, p0: Cp}, simultaneous=True).subs({q0: Sq, p0: Sp}, simultaneous=True)\n",
    "\n",
    "for i in range(num_blocks-1): \n",
    "    var_string = f'r_{i+1} theta_{i+1} c_{i+1} s_{i+1}'\n",
    "\n",
    "    r, theta, c, s = sympy.symbols(var_string)\n",
    "\n",
    "    Sq = q0 * sympy.exp(r)\n",
    "    Rq = q0 * sympy.cos(theta) + p0 * sympy.sin(theta)\n",
    "    Xq = q0 + c\n",
    "    Cq = q0\n",
    "    \n",
    "    Sp = p0 * sympy.exp(-r)\n",
    "    Rp = -q0 * sympy.sin(theta) + p0 * sympy.cos(theta)\n",
    "    Xp = p0\n",
    "    Cp = q0**2 * (-3*s) + p0*s\n",
    "    \n",
    "    qc = Xq.subs({q0: Rq, p0: Rp}, simultaneous=True).subs({q0: Cq, p0: Cp}, simultaneous=True).subs({q0: Sq, p0: Sp}, simultaneous=True)\n",
    "    pc = Xp.subs({p0: Rp}, simultaneous=True).subs({q0: Cq, p0: Cp}, simultaneous=True).subs({q0: Sq, p0: Sp}, simultaneous=True)\n",
    "\n",
    "    q1 = q1.subs({q0: qc, p0: pc}, simultaneous=True)\n",
    "    p1 = p1.subs({q0: qc, p0: pc}, simultaneous=True) "
   ]
  },
  {
   "cell_type": "code",
   "execution_count": 15,
   "id": "7913e439-010b-45bc-bd32-54ef1df204de",
   "metadata": {},
   "outputs": [
    {
     "data": {
      "text/latex": [
       "$\\displaystyle c_{0} + \\left(s_{0} \\left(- q_{0} e^{r_{1}} \\sin{\\left(\\theta_{1} \\right)} + \\left(p_{0} s_{1} e^{- r_{1}} - 3 q_{0}^{2} s_{1} e^{2 r_{1}}\\right) \\cos{\\left(\\theta_{1} \\right)}\\right) e^{- r_{0}} - 3 s_{0} \\left(c_{1} + q_{0} e^{r_{1}} \\cos{\\left(\\theta_{1} \\right)} + \\left(p_{0} s_{1} e^{- r_{1}} - 3 q_{0}^{2} s_{1} e^{2 r_{1}}\\right) \\sin{\\left(\\theta_{1} \\right)}\\right)^{2} e^{2 r_{0}}\\right) \\sin{\\left(\\theta_{0} \\right)} + \\left(c_{1} + q_{0} e^{r_{1}} \\cos{\\left(\\theta_{1} \\right)} + \\left(p_{0} s_{1} e^{- r_{1}} - 3 q_{0}^{2} s_{1} e^{2 r_{1}}\\right) \\sin{\\left(\\theta_{1} \\right)}\\right) e^{r_{0}} \\cos{\\left(\\theta_{0} \\right)}$"
      ],
      "text/plain": [
       "c_0 + (s_0*(-q_0*exp(r_1)*sin(theta_1) + (p_0*s_1*exp(-r_1) - 3*q_0**2*s_1*exp(2*r_1))*cos(theta_1))*exp(-r_0) - 3*s_0*(c_1 + q_0*exp(r_1)*cos(theta_1) + (p_0*s_1*exp(-r_1) - 3*q_0**2*s_1*exp(2*r_1))*sin(theta_1))**2*exp(2*r_0))*sin(theta_0) + (c_1 + q_0*exp(r_1)*cos(theta_1) + (p_0*s_1*exp(-r_1) - 3*q_0**2*s_1*exp(2*r_1))*sin(theta_1))*exp(r_0)*cos(theta_0)"
      ]
     },
     "execution_count": 15,
     "metadata": {},
     "output_type": "execute_result"
    }
   ],
   "source": [
    "q1"
   ]
  },
  {
   "cell_type": "code",
   "execution_count": 16,
   "id": "b040a10e-c91c-4064-ba7e-750d4ae6b2ab",
   "metadata": {},
   "outputs": [
    {
     "data": {
      "text/latex": [
       "$\\displaystyle \\left(s_{0} \\left(- q_{0} e^{r_{1}} \\sin{\\left(\\theta_{1} \\right)} + \\left(p_{0} s_{1} e^{- r_{1}} - 3 q_{0}^{2} s_{1} e^{2 r_{1}}\\right) \\cos{\\left(\\theta_{1} \\right)}\\right) e^{- r_{0}} - 3 s_{0} \\left(c_{1} + q_{0} e^{r_{1}} \\cos{\\left(\\theta_{1} \\right)} + \\left(p_{0} s_{1} e^{- r_{1}} - 3 q_{0}^{2} s_{1} e^{2 r_{1}}\\right) \\sin{\\left(\\theta_{1} \\right)}\\right)^{2} e^{2 r_{0}}\\right) \\cos{\\left(\\theta_{0} \\right)} - \\left(c_{1} + q_{0} e^{r_{1}} \\cos{\\left(\\theta_{1} \\right)} + \\left(p_{0} s_{1} e^{- r_{1}} - 3 q_{0}^{2} s_{1} e^{2 r_{1}}\\right) \\sin{\\left(\\theta_{1} \\right)}\\right) e^{r_{0}} \\sin{\\left(\\theta_{0} \\right)}$"
      ],
      "text/plain": [
       "(s_0*(-q_0*exp(r_1)*sin(theta_1) + (p_0*s_1*exp(-r_1) - 3*q_0**2*s_1*exp(2*r_1))*cos(theta_1))*exp(-r_0) - 3*s_0*(c_1 + q_0*exp(r_1)*cos(theta_1) + (p_0*s_1*exp(-r_1) - 3*q_0**2*s_1*exp(2*r_1))*sin(theta_1))**2*exp(2*r_0))*cos(theta_0) - (c_1 + q_0*exp(r_1)*cos(theta_1) + (p_0*s_1*exp(-r_1) - 3*q_0**2*s_1*exp(2*r_1))*sin(theta_1))*exp(r_0)*sin(theta_0)"
      ]
     },
     "execution_count": 16,
     "metadata": {},
     "output_type": "execute_result"
    }
   ],
   "source": [
    "p1"
   ]
  },
  {
   "cell_type": "markdown",
   "id": "bb10d968-7bf8-428f-9860-47989b00e514",
   "metadata": {},
   "source": [
    "## Calculating with optimal parameters"
   ]
  },
  {
   "cell_type": "code",
   "execution_count": 20,
   "id": "64dec845-1f21-4d61-8df7-d22639acf480",
   "metadata": {},
   "outputs": [
    {
     "data": {
      "text/latex": [
       "$\\displaystyle c_{0} - 3 c_{1}^{2} s_{0} e^{2 r_{0}} \\sin{\\left(\\theta_{0} \\right)} - 6 c_{1} p_{0} s_{0} s_{1} e^{2 r_{0}} e^{- r_{1}} \\sin{\\left(\\theta_{0} \\right)} \\sin{\\left(\\theta_{1} \\right)} + 18 c_{1} q_{0}^{2} s_{0} s_{1} e^{2 r_{0}} e^{2 r_{1}} \\sin{\\left(\\theta_{0} \\right)} \\sin{\\left(\\theta_{1} \\right)} - 6 c_{1} q_{0} s_{0} e^{2 r_{0}} e^{r_{1}} \\sin{\\left(\\theta_{0} \\right)} \\cos{\\left(\\theta_{1} \\right)} + c_{1} e^{r_{0}} \\cos{\\left(\\theta_{0} \\right)} - 3 p_{0}^{2} s_{0} s_{1}^{2} e^{2 r_{0}} e^{- 2 r_{1}} \\sin{\\left(\\theta_{0} \\right)} \\sin^{2}{\\left(\\theta_{1} \\right)} + 18 p_{0} q_{0}^{2} s_{0} s_{1}^{2} e^{2 r_{0}} e^{r_{1}} \\sin{\\left(\\theta_{0} \\right)} \\sin^{2}{\\left(\\theta_{1} \\right)} - 6 p_{0} q_{0} s_{0} s_{1} e^{2 r_{0}} \\sin{\\left(\\theta_{0} \\right)} \\sin{\\left(\\theta_{1} \\right)} \\cos{\\left(\\theta_{1} \\right)} + p_{0} s_{0} s_{1} e^{- r_{0}} e^{- r_{1}} \\sin{\\left(\\theta_{0} \\right)} \\cos{\\left(\\theta_{1} \\right)} + p_{0} s_{1} e^{r_{0}} e^{- r_{1}} \\sin{\\left(\\theta_{1} \\right)} \\cos{\\left(\\theta_{0} \\right)} - 27 q_{0}^{4} s_{0} s_{1}^{2} e^{2 r_{0}} e^{4 r_{1}} \\sin{\\left(\\theta_{0} \\right)} \\sin^{2}{\\left(\\theta_{1} \\right)} + 18 q_{0}^{3} s_{0} s_{1} e^{2 r_{0}} e^{3 r_{1}} \\sin{\\left(\\theta_{0} \\right)} \\sin{\\left(\\theta_{1} \\right)} \\cos{\\left(\\theta_{1} \\right)} - 3 q_{0}^{2} s_{0} s_{1} e^{- r_{0}} e^{2 r_{1}} \\sin{\\left(\\theta_{0} \\right)} \\cos{\\left(\\theta_{1} \\right)} - 3 q_{0}^{2} s_{0} e^{2 r_{0}} e^{2 r_{1}} \\sin{\\left(\\theta_{0} \\right)} \\cos^{2}{\\left(\\theta_{1} \\right)} - 3 q_{0}^{2} s_{1} e^{r_{0}} e^{2 r_{1}} \\sin{\\left(\\theta_{1} \\right)} \\cos{\\left(\\theta_{0} \\right)} - q_{0} s_{0} e^{- r_{0}} e^{r_{1}} \\sin{\\left(\\theta_{0} \\right)} \\sin{\\left(\\theta_{1} \\right)} + q_{0} e^{r_{0}} e^{r_{1}} \\cos{\\left(\\theta_{0} \\right)} \\cos{\\left(\\theta_{1} \\right)}$"
      ],
      "text/plain": [
       "c_0 - 3*c_1**2*s_0*exp(2*r_0)*sin(theta_0) - 6*c_1*p_0*s_0*s_1*exp(2*r_0)*exp(-r_1)*sin(theta_0)*sin(theta_1) + 18*c_1*q_0**2*s_0*s_1*exp(2*r_0)*exp(2*r_1)*sin(theta_0)*sin(theta_1) - 6*c_1*q_0*s_0*exp(2*r_0)*exp(r_1)*sin(theta_0)*cos(theta_1) + c_1*exp(r_0)*cos(theta_0) - 3*p_0**2*s_0*s_1**2*exp(2*r_0)*exp(-2*r_1)*sin(theta_0)*sin(theta_1)**2 + 18*p_0*q_0**2*s_0*s_1**2*exp(2*r_0)*exp(r_1)*sin(theta_0)*sin(theta_1)**2 - 6*p_0*q_0*s_0*s_1*exp(2*r_0)*sin(theta_0)*sin(theta_1)*cos(theta_1) + p_0*s_0*s_1*exp(-r_0)*exp(-r_1)*sin(theta_0)*cos(theta_1) + p_0*s_1*exp(r_0)*exp(-r_1)*sin(theta_1)*cos(theta_0) - 27*q_0**4*s_0*s_1**2*exp(2*r_0)*exp(4*r_1)*sin(theta_0)*sin(theta_1)**2 + 18*q_0**3*s_0*s_1*exp(2*r_0)*exp(3*r_1)*sin(theta_0)*sin(theta_1)*cos(theta_1) - 3*q_0**2*s_0*s_1*exp(-r_0)*exp(2*r_1)*sin(theta_0)*cos(theta_1) - 3*q_0**2*s_0*exp(2*r_0)*exp(2*r_1)*sin(theta_0)*cos(theta_1)**2 - 3*q_0**2*s_1*exp(r_0)*exp(2*r_1)*sin(theta_1)*cos(theta_0) - q_0*s_0*exp(-r_0)*exp(r_1)*sin(theta_0)*sin(theta_1) + q_0*exp(r_0)*exp(r_1)*cos(theta_0)*cos(theta_1)"
      ]
     },
     "execution_count": 20,
     "metadata": {},
     "output_type": "execute_result"
    }
   ],
   "source": [
    "sympy.expand(q1)"
   ]
  },
  {
   "cell_type": "code",
   "execution_count": 24,
   "id": "00e978a5-e544-4e6f-a73c-7bff6afc88f3",
   "metadata": {},
   "outputs": [
    {
     "data": {
      "text/latex": [
       "$\\displaystyle c_{0} - 3 c_{1}^{2} s_{0} e^{2 r_{0}} \\sin{\\left(\\theta_{0} \\right)} + c_{1} e^{r_{0}} \\cos{\\left(\\theta_{0} \\right)} - 3 p_{0}^{2} s_{0} s_{1}^{2} e^{2 r_{0}} e^{- 2 r_{1}} \\sin{\\left(\\theta_{0} \\right)} \\sin^{2}{\\left(\\theta_{1} \\right)} + p_{0} \\left(- 6 c_{1} s_{0} s_{1} e^{2 r_{0}} e^{- r_{1}} \\sin{\\left(\\theta_{0} \\right)} \\sin{\\left(\\theta_{1} \\right)} + s_{0} s_{1} e^{- r_{0}} e^{- r_{1}} \\sin{\\left(\\theta_{0} \\right)} \\cos{\\left(\\theta_{1} \\right)} + s_{1} e^{r_{0}} e^{- r_{1}} \\sin{\\left(\\theta_{1} \\right)} \\cos{\\left(\\theta_{0} \\right)}\\right) - 27 q_{0}^{4} s_{0} s_{1}^{2} e^{2 r_{0}} e^{4 r_{1}} \\sin{\\left(\\theta_{0} \\right)} \\sin^{2}{\\left(\\theta_{1} \\right)} + 18 q_{0}^{3} s_{0} s_{1} e^{2 r_{0}} e^{3 r_{1}} \\sin{\\left(\\theta_{0} \\right)} \\sin{\\left(\\theta_{1} \\right)} \\cos{\\left(\\theta_{1} \\right)} + q_{0}^{2} \\cdot \\left(18 c_{1} s_{0} s_{1} e^{2 r_{0}} e^{2 r_{1}} \\sin{\\left(\\theta_{0} \\right)} \\sin{\\left(\\theta_{1} \\right)} + 18 p_{0} s_{0} s_{1}^{2} e^{2 r_{0}} e^{r_{1}} \\sin{\\left(\\theta_{0} \\right)} \\sin^{2}{\\left(\\theta_{1} \\right)} - 3 s_{0} s_{1} e^{- r_{0}} e^{2 r_{1}} \\sin{\\left(\\theta_{0} \\right)} \\cos{\\left(\\theta_{1} \\right)} - 3 s_{0} e^{2 r_{0}} e^{2 r_{1}} \\sin{\\left(\\theta_{0} \\right)} \\cos^{2}{\\left(\\theta_{1} \\right)} - 3 s_{1} e^{r_{0}} e^{2 r_{1}} \\sin{\\left(\\theta_{1} \\right)} \\cos{\\left(\\theta_{0} \\right)}\\right) + q_{0} \\left(- 6 c_{1} s_{0} e^{2 r_{0}} e^{r_{1}} \\sin{\\left(\\theta_{0} \\right)} \\cos{\\left(\\theta_{1} \\right)} - 6 p_{0} s_{0} s_{1} e^{2 r_{0}} \\sin{\\left(\\theta_{0} \\right)} \\sin{\\left(\\theta_{1} \\right)} \\cos{\\left(\\theta_{1} \\right)} - s_{0} e^{- r_{0}} e^{r_{1}} \\sin{\\left(\\theta_{0} \\right)} \\sin{\\left(\\theta_{1} \\right)} + e^{r_{0}} e^{r_{1}} \\cos{\\left(\\theta_{0} \\right)} \\cos{\\left(\\theta_{1} \\right)}\\right)$"
      ],
      "text/plain": [
       "c_0 - 3*c_1**2*s_0*exp(2*r_0)*sin(theta_0) + c_1*exp(r_0)*cos(theta_0) - 3*p_0**2*s_0*s_1**2*exp(2*r_0)*exp(-2*r_1)*sin(theta_0)*sin(theta_1)**2 + p_0*(-6*c_1*s_0*s_1*exp(2*r_0)*exp(-r_1)*sin(theta_0)*sin(theta_1) + s_0*s_1*exp(-r_0)*exp(-r_1)*sin(theta_0)*cos(theta_1) + s_1*exp(r_0)*exp(-r_1)*sin(theta_1)*cos(theta_0)) - 27*q_0**4*s_0*s_1**2*exp(2*r_0)*exp(4*r_1)*sin(theta_0)*sin(theta_1)**2 + 18*q_0**3*s_0*s_1*exp(2*r_0)*exp(3*r_1)*sin(theta_0)*sin(theta_1)*cos(theta_1) + q_0**2*(18*c_1*s_0*s_1*exp(2*r_0)*exp(2*r_1)*sin(theta_0)*sin(theta_1) + 18*p_0*s_0*s_1**2*exp(2*r_0)*exp(r_1)*sin(theta_0)*sin(theta_1)**2 - 3*s_0*s_1*exp(-r_0)*exp(2*r_1)*sin(theta_0)*cos(theta_1) - 3*s_0*exp(2*r_0)*exp(2*r_1)*sin(theta_0)*cos(theta_1)**2 - 3*s_1*exp(r_0)*exp(2*r_1)*sin(theta_1)*cos(theta_0)) + q_0*(-6*c_1*s_0*exp(2*r_0)*exp(r_1)*sin(theta_0)*cos(theta_1) - 6*p_0*s_0*s_1*exp(2*r_0)*sin(theta_0)*sin(theta_1)*cos(theta_1) - s_0*exp(-r_0)*exp(r_1)*sin(theta_0)*sin(theta_1) + exp(r_0)*exp(r_1)*cos(theta_0)*cos(theta_1))"
      ]
     },
     "execution_count": 24,
     "metadata": {},
     "output_type": "execute_result"
    }
   ],
   "source": [
    "sympy.collect(sympy.collect(sympy.expand(q1), q0), p0)\n"
   ]
  }
 ],
 "metadata": {
  "kernelspec": {
   "display_name": "Python 3 (ipykernel)",
   "language": "python",
   "name": "python3"
  },
  "language_info": {
   "codemirror_mode": {
    "name": "ipython",
    "version": 3
   },
   "file_extension": ".py",
   "mimetype": "text/x-python",
   "name": "python",
   "nbconvert_exporter": "python",
   "pygments_lexer": "ipython3",
   "version": "3.13.3"
  }
 },
 "nbformat": 4,
 "nbformat_minor": 5
}
